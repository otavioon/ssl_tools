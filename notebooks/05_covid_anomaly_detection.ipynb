{
 "cells": [
  {
   "cell_type": "markdown",
   "metadata": {},
   "source": [
    "# 5. Training an Anomaly Detection Model for Covid Anomaly Detection\n",
    "\n",
    "In this tutorial, we will train an anomaly detection model using a simple [LSTM-AutoEncoder model](https://www.medrxiv.org/content/10.1101/2021.01.08.21249474v1).\n",
    "Data can be obtained from [this link](https://iscteiul365-my.sharepoint.com/:u:/g/personal/oonia_iscte-iul_pt/ERZLm1ruUNpMqkSwjpqhE9wB_7loVWAC4yZWuIH2RKGOlQ?e=kD4HlI). This is a processed version of data from original Stanford dataset-Phase 2. The overall pre-processing pipeline used is illustrated in Figure below.\n",
    "\n",
    "![preprocessing](stanford_data_processing.png)"
   ]
  },
  {
   "cell_type": "markdown",
   "metadata": {},
   "source": [
    "Data was aquired from diferent sources (Germin, FitBit, Apple Watch) and pre-processed to have a common format. In this form, data has two columns: heart rate and number of user steps in last minute. \n",
    "Then the processing pipeline was applied to the data. The pipeline is composed of the following steps:\n",
    "1. Once data was standardized, the resting heart rate was extracted (``Resting Heart Rate Extractor``, in Figure). This process takes as input `min_minutes_rest` that is the number of minutes that the user has to be at rest to consider the heart rate as resting. This variable looks at user steps and, when user steps is 0 for `min_minutes_rest` minutes, the heart rate is considered as resting. At the end of this process, we will have a new dataframe with: the date and the resting heart rate of the last minute.\n",
    "2. The second step is adding labels."
   ]
  },
  {
   "cell_type": "code",
   "execution_count": 1,
   "metadata": {},
   "outputs": [],
   "source": [
    "import pandas as pd\n",
    "from ssl_tools.data.data_modules.covid_anomaly import CovidUserAnomalyDataModule\n",
    "from ssl_tools.utils.data import get_full_data_split\n",
    "from ssl_tools.models.nets.lstm_ae import LSTMAutoencoder\n",
    "import lightning as L\n",
    "import torch\n",
    "import numpy as np\n",
    "from torchmetrics import MeanSquaredError"
   ]
  },
  {
   "cell_type": "code",
   "execution_count": 2,
   "metadata": {},
   "outputs": [
    {
     "data": {
      "text/html": [
       "<div>\n",
       "<style scoped>\n",
       "    .dataframe tbody tr th:only-of-type {\n",
       "        vertical-align: middle;\n",
       "    }\n",
       "\n",
       "    .dataframe tbody tr th {\n",
       "        vertical-align: top;\n",
       "    }\n",
       "\n",
       "    .dataframe thead th {\n",
       "        text-align: right;\n",
       "    }\n",
       "</style>\n",
       "<table border=\"1\" class=\"dataframe\">\n",
       "  <thead>\n",
       "    <tr style=\"text-align: right;\">\n",
       "      <th></th>\n",
       "      <th>datetime</th>\n",
       "      <th>RHR-0</th>\n",
       "      <th>RHR-1</th>\n",
       "      <th>RHR-2</th>\n",
       "      <th>RHR-3</th>\n",
       "      <th>RHR-4</th>\n",
       "      <th>RHR-5</th>\n",
       "      <th>RHR-6</th>\n",
       "      <th>RHR-7</th>\n",
       "      <th>RHR-8</th>\n",
       "      <th>...</th>\n",
       "      <th>RHR-10</th>\n",
       "      <th>RHR-11</th>\n",
       "      <th>RHR-12</th>\n",
       "      <th>RHR-13</th>\n",
       "      <th>RHR-14</th>\n",
       "      <th>RHR-15</th>\n",
       "      <th>anomaly</th>\n",
       "      <th>baseline</th>\n",
       "      <th>label</th>\n",
       "      <th>participant_id</th>\n",
       "    </tr>\n",
       "  </thead>\n",
       "  <tbody>\n",
       "    <tr>\n",
       "      <th>0</th>\n",
       "      <td>2027-01-14 21:00:00</td>\n",
       "      <td>1.170175</td>\n",
       "      <td>0.653752</td>\n",
       "      <td>-0.392374</td>\n",
       "      <td>-1.431553</td>\n",
       "      <td>-2.129013</td>\n",
       "      <td>-2.755962</td>\n",
       "      <td>-3.681322</td>\n",
       "      <td>-4.674443</td>\n",
       "      <td>-5.668570</td>\n",
       "      <td>...</td>\n",
       "      <td>-6.937363</td>\n",
       "      <td>-7.102118</td>\n",
       "      <td>-6.975790</td>\n",
       "      <td>-6.554774</td>\n",
       "      <td>-6.112156</td>\n",
       "      <td>-5.396099</td>\n",
       "      <td>False</td>\n",
       "      <td>True</td>\n",
       "      <td>normal</td>\n",
       "      <td>P110465</td>\n",
       "    </tr>\n",
       "    <tr>\n",
       "      <th>1</th>\n",
       "      <td>2027-01-15 05:00:00</td>\n",
       "      <td>-5.668570</td>\n",
       "      <td>-6.373289</td>\n",
       "      <td>-6.937363</td>\n",
       "      <td>-7.102118</td>\n",
       "      <td>-6.975790</td>\n",
       "      <td>-6.554774</td>\n",
       "      <td>-6.112156</td>\n",
       "      <td>-5.396099</td>\n",
       "      <td>-4.415848</td>\n",
       "      <td>...</td>\n",
       "      <td>-2.656756</td>\n",
       "      <td>-1.305630</td>\n",
       "      <td>-0.072756</td>\n",
       "      <td>1.046195</td>\n",
       "      <td>1.530467</td>\n",
       "      <td>1.829053</td>\n",
       "      <td>False</td>\n",
       "      <td>False</td>\n",
       "      <td>normal</td>\n",
       "      <td>P110465</td>\n",
       "    </tr>\n",
       "    <tr>\n",
       "      <th>2</th>\n",
       "      <td>2027-01-15 13:00:00</td>\n",
       "      <td>-4.415848</td>\n",
       "      <td>-3.467073</td>\n",
       "      <td>-2.656756</td>\n",
       "      <td>-1.305630</td>\n",
       "      <td>-0.072756</td>\n",
       "      <td>1.046195</td>\n",
       "      <td>1.530467</td>\n",
       "      <td>1.829053</td>\n",
       "      <td>1.223064</td>\n",
       "      <td>...</td>\n",
       "      <td>-0.424000</td>\n",
       "      <td>-1.145581</td>\n",
       "      <td>-1.355121</td>\n",
       "      <td>-2.321206</td>\n",
       "      <td>-3.124961</td>\n",
       "      <td>-3.928738</td>\n",
       "      <td>False</td>\n",
       "      <td>False</td>\n",
       "      <td>normal</td>\n",
       "      <td>P110465</td>\n",
       "    </tr>\n",
       "    <tr>\n",
       "      <th>3</th>\n",
       "      <td>2027-01-15 21:00:00</td>\n",
       "      <td>1.223064</td>\n",
       "      <td>0.472444</td>\n",
       "      <td>-0.424000</td>\n",
       "      <td>-1.145581</td>\n",
       "      <td>-1.355121</td>\n",
       "      <td>-2.321206</td>\n",
       "      <td>-3.124961</td>\n",
       "      <td>-3.928738</td>\n",
       "      <td>-4.802627</td>\n",
       "      <td>...</td>\n",
       "      <td>-6.067744</td>\n",
       "      <td>-5.460156</td>\n",
       "      <td>-4.671143</td>\n",
       "      <td>-3.408943</td>\n",
       "      <td>-2.237883</td>\n",
       "      <td>-1.187843</td>\n",
       "      <td>False</td>\n",
       "      <td>False</td>\n",
       "      <td>normal</td>\n",
       "      <td>P110465</td>\n",
       "    </tr>\n",
       "    <tr>\n",
       "      <th>4</th>\n",
       "      <td>2027-01-16 05:00:00</td>\n",
       "      <td>-4.802627</td>\n",
       "      <td>-5.831013</td>\n",
       "      <td>-6.067744</td>\n",
       "      <td>-5.460156</td>\n",
       "      <td>-4.671143</td>\n",
       "      <td>-3.408943</td>\n",
       "      <td>-2.237883</td>\n",
       "      <td>-1.187843</td>\n",
       "      <td>-0.062360</td>\n",
       "      <td>...</td>\n",
       "      <td>2.266944</td>\n",
       "      <td>3.794465</td>\n",
       "      <td>4.625745</td>\n",
       "      <td>4.827756</td>\n",
       "      <td>4.720000</td>\n",
       "      <td>4.677464</td>\n",
       "      <td>False</td>\n",
       "      <td>False</td>\n",
       "      <td>normal</td>\n",
       "      <td>P110465</td>\n",
       "    </tr>\n",
       "    <tr>\n",
       "      <th>...</th>\n",
       "      <td>...</td>\n",
       "      <td>...</td>\n",
       "      <td>...</td>\n",
       "      <td>...</td>\n",
       "      <td>...</td>\n",
       "      <td>...</td>\n",
       "      <td>...</td>\n",
       "      <td>...</td>\n",
       "      <td>...</td>\n",
       "      <td>...</td>\n",
       "      <td>...</td>\n",
       "      <td>...</td>\n",
       "      <td>...</td>\n",
       "      <td>...</td>\n",
       "      <td>...</td>\n",
       "      <td>...</td>\n",
       "      <td>...</td>\n",
       "      <td>...</td>\n",
       "      <td>...</td>\n",
       "      <td>...</td>\n",
       "      <td>...</td>\n",
       "    </tr>\n",
       "    <tr>\n",
       "      <th>31732</th>\n",
       "      <td>2024-12-13 00:00:00</td>\n",
       "      <td>-0.180702</td>\n",
       "      <td>-0.499793</td>\n",
       "      <td>-0.749829</td>\n",
       "      <td>-0.868485</td>\n",
       "      <td>-0.966754</td>\n",
       "      <td>-1.004670</td>\n",
       "      <td>-0.888210</td>\n",
       "      <td>-0.580762</td>\n",
       "      <td>-0.467943</td>\n",
       "      <td>...</td>\n",
       "      <td>0.092000</td>\n",
       "      <td>0.347840</td>\n",
       "      <td>0.636395</td>\n",
       "      <td>0.958195</td>\n",
       "      <td>1.170514</td>\n",
       "      <td>1.301841</td>\n",
       "      <td>False</td>\n",
       "      <td>False</td>\n",
       "      <td>recovered</td>\n",
       "      <td>P992022</td>\n",
       "    </tr>\n",
       "    <tr>\n",
       "      <th>31733</th>\n",
       "      <td>2024-12-13 08:00:00</td>\n",
       "      <td>-0.467943</td>\n",
       "      <td>-0.162740</td>\n",
       "      <td>0.092000</td>\n",
       "      <td>0.347840</td>\n",
       "      <td>0.636395</td>\n",
       "      <td>0.958195</td>\n",
       "      <td>1.170514</td>\n",
       "      <td>1.301841</td>\n",
       "      <td>1.477526</td>\n",
       "      <td>...</td>\n",
       "      <td>1.660344</td>\n",
       "      <td>1.656600</td>\n",
       "      <td>1.685652</td>\n",
       "      <td>1.747252</td>\n",
       "      <td>1.767329</td>\n",
       "      <td>1.793616</td>\n",
       "      <td>False</td>\n",
       "      <td>False</td>\n",
       "      <td>recovered</td>\n",
       "      <td>P992022</td>\n",
       "    </tr>\n",
       "    <tr>\n",
       "      <th>31734</th>\n",
       "      <td>2024-12-13 16:00:00</td>\n",
       "      <td>1.477526</td>\n",
       "      <td>1.657321</td>\n",
       "      <td>1.660344</td>\n",
       "      <td>1.656600</td>\n",
       "      <td>1.685652</td>\n",
       "      <td>1.747252</td>\n",
       "      <td>1.767329</td>\n",
       "      <td>1.793616</td>\n",
       "      <td>1.728615</td>\n",
       "      <td>...</td>\n",
       "      <td>1.509833</td>\n",
       "      <td>1.380749</td>\n",
       "      <td>1.263744</td>\n",
       "      <td>1.139997</td>\n",
       "      <td>1.024205</td>\n",
       "      <td>0.946663</td>\n",
       "      <td>False</td>\n",
       "      <td>False</td>\n",
       "      <td>recovered</td>\n",
       "      <td>P992022</td>\n",
       "    </tr>\n",
       "    <tr>\n",
       "      <th>31735</th>\n",
       "      <td>2024-12-14 00:00:00</td>\n",
       "      <td>1.728615</td>\n",
       "      <td>1.616265</td>\n",
       "      <td>1.509833</td>\n",
       "      <td>1.380749</td>\n",
       "      <td>1.263744</td>\n",
       "      <td>1.139997</td>\n",
       "      <td>1.024205</td>\n",
       "      <td>0.946663</td>\n",
       "      <td>1.136868</td>\n",
       "      <td>...</td>\n",
       "      <td>1.642153</td>\n",
       "      <td>1.909381</td>\n",
       "      <td>2.114439</td>\n",
       "      <td>2.282238</td>\n",
       "      <td>2.453691</td>\n",
       "      <td>2.587843</td>\n",
       "      <td>False</td>\n",
       "      <td>False</td>\n",
       "      <td>recovered</td>\n",
       "      <td>P992022</td>\n",
       "    </tr>\n",
       "    <tr>\n",
       "      <th>31736</th>\n",
       "      <td>2024-12-14 08:00:00</td>\n",
       "      <td>1.136868</td>\n",
       "      <td>1.380418</td>\n",
       "      <td>1.642153</td>\n",
       "      <td>1.909381</td>\n",
       "      <td>2.114439</td>\n",
       "      <td>2.282238</td>\n",
       "      <td>2.453691</td>\n",
       "      <td>2.587843</td>\n",
       "      <td>2.437232</td>\n",
       "      <td>...</td>\n",
       "      <td>2.359840</td>\n",
       "      <td>2.173400</td>\n",
       "      <td>2.098140</td>\n",
       "      <td>1.967669</td>\n",
       "      <td>1.784512</td>\n",
       "      <td>1.561848</td>\n",
       "      <td>False</td>\n",
       "      <td>False</td>\n",
       "      <td>recovered</td>\n",
       "      <td>P992022</td>\n",
       "    </tr>\n",
       "  </tbody>\n",
       "</table>\n",
       "<p>31737 rows × 21 columns</p>\n",
       "</div>"
      ],
      "text/plain": [
       "                  datetime     RHR-0     RHR-1     RHR-2     RHR-3     RHR-4  \\\n",
       "0      2027-01-14 21:00:00  1.170175  0.653752 -0.392374 -1.431553 -2.129013   \n",
       "1      2027-01-15 05:00:00 -5.668570 -6.373289 -6.937363 -7.102118 -6.975790   \n",
       "2      2027-01-15 13:00:00 -4.415848 -3.467073 -2.656756 -1.305630 -0.072756   \n",
       "3      2027-01-15 21:00:00  1.223064  0.472444 -0.424000 -1.145581 -1.355121   \n",
       "4      2027-01-16 05:00:00 -4.802627 -5.831013 -6.067744 -5.460156 -4.671143   \n",
       "...                    ...       ...       ...       ...       ...       ...   \n",
       "31732  2024-12-13 00:00:00 -0.180702 -0.499793 -0.749829 -0.868485 -0.966754   \n",
       "31733  2024-12-13 08:00:00 -0.467943 -0.162740  0.092000  0.347840  0.636395   \n",
       "31734  2024-12-13 16:00:00  1.477526  1.657321  1.660344  1.656600  1.685652   \n",
       "31735  2024-12-14 00:00:00  1.728615  1.616265  1.509833  1.380749  1.263744   \n",
       "31736  2024-12-14 08:00:00  1.136868  1.380418  1.642153  1.909381  2.114439   \n",
       "\n",
       "          RHR-5     RHR-6     RHR-7     RHR-8  ...    RHR-10    RHR-11  \\\n",
       "0     -2.755962 -3.681322 -4.674443 -5.668570  ... -6.937363 -7.102118   \n",
       "1     -6.554774 -6.112156 -5.396099 -4.415848  ... -2.656756 -1.305630   \n",
       "2      1.046195  1.530467  1.829053  1.223064  ... -0.424000 -1.145581   \n",
       "3     -2.321206 -3.124961 -3.928738 -4.802627  ... -6.067744 -5.460156   \n",
       "4     -3.408943 -2.237883 -1.187843 -0.062360  ...  2.266944  3.794465   \n",
       "...         ...       ...       ...       ...  ...       ...       ...   \n",
       "31732 -1.004670 -0.888210 -0.580762 -0.467943  ...  0.092000  0.347840   \n",
       "31733  0.958195  1.170514  1.301841  1.477526  ...  1.660344  1.656600   \n",
       "31734  1.747252  1.767329  1.793616  1.728615  ...  1.509833  1.380749   \n",
       "31735  1.139997  1.024205  0.946663  1.136868  ...  1.642153  1.909381   \n",
       "31736  2.282238  2.453691  2.587843  2.437232  ...  2.359840  2.173400   \n",
       "\n",
       "         RHR-12    RHR-13    RHR-14    RHR-15  anomaly  baseline      label  \\\n",
       "0     -6.975790 -6.554774 -6.112156 -5.396099    False      True     normal   \n",
       "1     -0.072756  1.046195  1.530467  1.829053    False     False     normal   \n",
       "2     -1.355121 -2.321206 -3.124961 -3.928738    False     False     normal   \n",
       "3     -4.671143 -3.408943 -2.237883 -1.187843    False     False     normal   \n",
       "4      4.625745  4.827756  4.720000  4.677464    False     False     normal   \n",
       "...         ...       ...       ...       ...      ...       ...        ...   \n",
       "31732  0.636395  0.958195  1.170514  1.301841    False     False  recovered   \n",
       "31733  1.685652  1.747252  1.767329  1.793616    False     False  recovered   \n",
       "31734  1.263744  1.139997  1.024205  0.946663    False     False  recovered   \n",
       "31735  2.114439  2.282238  2.453691  2.587843    False     False  recovered   \n",
       "31736  2.098140  1.967669  1.784512  1.561848    False     False  recovered   \n",
       "\n",
       "      participant_id  \n",
       "0            P110465  \n",
       "1            P110465  \n",
       "2            P110465  \n",
       "3            P110465  \n",
       "4            P110465  \n",
       "...              ...  \n",
       "31732        P992022  \n",
       "31733        P992022  \n",
       "31734        P992022  \n",
       "31735        P992022  \n",
       "31736        P992022  \n",
       "\n",
       "[31737 rows x 21 columns]"
      ]
     },
     "execution_count": 2,
     "metadata": {},
     "output_type": "execute_result"
    }
   ],
   "source": [
    "# Read CSV data\n",
    "data_path = \"/workspaces/hiaac-m4/data/Stanford-COVID/processed/windowed_16_overlap_8_df_scaled.csv\"\n",
    "df = pd.read_csv(data_path)\n",
    "df"
   ]
  },
  {
   "cell_type": "code",
   "execution_count": 3,
   "metadata": {},
   "outputs": [
    {
     "data": {
      "text/plain": [
       "CovidUserAnomalyDataModule (Data=/workspaces/hiaac-m4/data/Stanford-COVID/processed/windowed_16_overlap_8_df_scaled.csv, 1 participant selected)"
      ]
     },
     "execution_count": 3,
     "metadata": {},
     "output_type": "execute_result"
    }
   ],
   "source": [
    "dm = CovidUserAnomalyDataModule(\n",
    "    data_path,\n",
    "    participants=[\"P992022\"],\n",
    "    batch_size=32,\n",
    "    num_workers=0,\n",
    "    reshape=(16, 1),\n",
    ")\n",
    "dm"
   ]
  },
  {
   "cell_type": "code",
   "execution_count": 4,
   "metadata": {},
   "outputs": [
    {
     "data": {
      "text/plain": [
       "LSTMAutoencoder(\n",
       "  (backbone): _LSTMAutoEncoder(\n",
       "    (lstm1): LSTM(1, 128, batch_first=True)\n",
       "    (lstm2): LSTM(128, 64, batch_first=True)\n",
       "    (repeat_vector): Linear(in_features=64, out_features=1024, bias=True)\n",
       "    (lstm3): LSTM(64, 64, batch_first=True)\n",
       "    (lstm4): LSTM(64, 128, batch_first=True)\n",
       "    (time_distributed): Linear(in_features=128, out_features=1, bias=True)\n",
       "  )\n",
       "  (loss_fn): MSELoss()\n",
       ")"
      ]
     },
     "execution_count": 4,
     "metadata": {},
     "output_type": "execute_result"
    }
   ],
   "source": [
    "model = LSTMAutoencoder(input_shape=(16, 1))\n",
    "model"
   ]
  },
  {
   "cell_type": "code",
   "execution_count": 5,
   "metadata": {},
   "outputs": [
    {
     "name": "stderr",
     "output_type": "stream",
     "text": [
      "GPU available: True (cuda), used: False\n",
      "TPU available: False, using: 0 TPU cores\n",
      "IPU available: False, using: 0 IPUs\n",
      "HPU available: False, using: 0 HPUs\n",
      "/usr/local/lib/python3.10/dist-packages/lightning/pytorch/trainer/setup.py:187: GPU available but not used. You can set it by doing `Trainer(accelerator='gpu')`.\n"
     ]
    },
    {
     "data": {
      "text/plain": [
       "<lightning.pytorch.trainer.trainer.Trainer at 0x7f98860215a0>"
      ]
     },
     "execution_count": 5,
     "metadata": {},
     "output_type": "execute_result"
    }
   ],
   "source": [
    "trainer = L.Trainer(max_epochs=100, devices=1, accelerator=\"cpu\")\n",
    "trainer"
   ]
  },
  {
   "cell_type": "code",
   "execution_count": 6,
   "metadata": {},
   "outputs": [
    {
     "name": "stderr",
     "output_type": "stream",
     "text": [
      "\n",
      "  | Name     | Type             | Params\n",
      "----------------------------------------------\n",
      "0 | backbone | _LSTMAutoEncoder | 316 K \n",
      "1 | loss_fn  | MSELoss          | 0     \n",
      "----------------------------------------------\n",
      "316 K     Trainable params\n",
      "0         Non-trainable params\n",
      "316 K     Total params\n",
      "1.264     Total estimated model params size (MB)\n"
     ]
    },
    {
     "data": {
      "application/vnd.jupyter.widget-view+json": {
       "model_id": "122a71df981c48c183eb2b4e7585103d",
       "version_major": 2,
       "version_minor": 0
      },
      "text/plain": [
       "Sanity Checking: |          | 0/? [00:00<?, ?it/s]"
      ]
     },
     "metadata": {},
     "output_type": "display_data"
    },
    {
     "name": "stderr",
     "output_type": "stream",
     "text": [
      "/usr/local/lib/python3.10/dist-packages/lightning/pytorch/trainer/connectors/data_connector.py:441: The 'val_dataloader' does not have many workers which may be a bottleneck. Consider increasing the value of the `num_workers` argument` to `num_workers=47` in the `DataLoader` to improve performance.\n",
      "/usr/local/lib/python3.10/dist-packages/lightning/pytorch/trainer/connectors/data_connector.py:441: The 'train_dataloader' does not have many workers which may be a bottleneck. Consider increasing the value of the `num_workers` argument` to `num_workers=47` in the `DataLoader` to improve performance.\n",
      "/usr/local/lib/python3.10/dist-packages/lightning/pytorch/loops/fit_loop.py:298: The number of training batches (5) is smaller than the logging interval Trainer(log_every_n_steps=50). Set a lower value for log_every_n_steps if you want to see logs for the training epoch.\n"
     ]
    },
    {
     "data": {
      "application/vnd.jupyter.widget-view+json": {
       "model_id": "6c48146d8d214869a0d6bfbcf02956c4",
       "version_major": 2,
       "version_minor": 0
      },
      "text/plain": [
       "Training: |          | 0/? [00:00<?, ?it/s]"
      ]
     },
     "metadata": {},
     "output_type": "display_data"
    },
    {
     "data": {
      "application/vnd.jupyter.widget-view+json": {
       "model_id": "4f33ded3cd1740b1a812e83beb2f0ec0",
       "version_major": 2,
       "version_minor": 0
      },
      "text/plain": [
       "Validation: |          | 0/? [00:00<?, ?it/s]"
      ]
     },
     "metadata": {},
     "output_type": "display_data"
    },
    {
     "data": {
      "application/vnd.jupyter.widget-view+json": {
       "model_id": "4afd1e9812c64d6e8a91e2fdfde10e65",
       "version_major": 2,
       "version_minor": 0
      },
      "text/plain": [
       "Validation: |          | 0/? [00:00<?, ?it/s]"
      ]
     },
     "metadata": {},
     "output_type": "display_data"
    },
    {
     "data": {
      "application/vnd.jupyter.widget-view+json": {
       "model_id": "5a62a9344bf24bb68f8186082a4a7b63",
       "version_major": 2,
       "version_minor": 0
      },
      "text/plain": [
       "Validation: |          | 0/? [00:00<?, ?it/s]"
      ]
     },
     "metadata": {},
     "output_type": "display_data"
    },
    {
     "data": {
      "application/vnd.jupyter.widget-view+json": {
       "model_id": "feaf5977c0fc4066a5f50da5a0e35247",
       "version_major": 2,
       "version_minor": 0
      },
      "text/plain": [
       "Validation: |          | 0/? [00:00<?, ?it/s]"
      ]
     },
     "metadata": {},
     "output_type": "display_data"
    },
    {
     "data": {
      "application/vnd.jupyter.widget-view+json": {
       "model_id": "1af54416213d4d38be23c25cdbea768e",
       "version_major": 2,
       "version_minor": 0
      },
      "text/plain": [
       "Validation: |          | 0/? [00:00<?, ?it/s]"
      ]
     },
     "metadata": {},
     "output_type": "display_data"
    },
    {
     "data": {
      "application/vnd.jupyter.widget-view+json": {
       "model_id": "d1f5a8e798de46cf852ea6c340af1c36",
       "version_major": 2,
       "version_minor": 0
      },
      "text/plain": [
       "Validation: |          | 0/? [00:00<?, ?it/s]"
      ]
     },
     "metadata": {},
     "output_type": "display_data"
    },
    {
     "data": {
      "application/vnd.jupyter.widget-view+json": {
       "model_id": "52e069d4d90745ffbe1a5d8881176e1f",
       "version_major": 2,
       "version_minor": 0
      },
      "text/plain": [
       "Validation: |          | 0/? [00:00<?, ?it/s]"
      ]
     },
     "metadata": {},
     "output_type": "display_data"
    },
    {
     "data": {
      "application/vnd.jupyter.widget-view+json": {
       "model_id": "7ccdb005e9d84b1499669a4185e7230f",
       "version_major": 2,
       "version_minor": 0
      },
      "text/plain": [
       "Validation: |          | 0/? [00:00<?, ?it/s]"
      ]
     },
     "metadata": {},
     "output_type": "display_data"
    },
    {
     "data": {
      "application/vnd.jupyter.widget-view+json": {
       "model_id": "b47b2a5274e24202a7a2c903a09aa813",
       "version_major": 2,
       "version_minor": 0
      },
      "text/plain": [
       "Validation: |          | 0/? [00:00<?, ?it/s]"
      ]
     },
     "metadata": {},
     "output_type": "display_data"
    },
    {
     "data": {
      "application/vnd.jupyter.widget-view+json": {
       "model_id": "ee1cd0cc5b6b42f5875f0b01c4b0488b",
       "version_major": 2,
       "version_minor": 0
      },
      "text/plain": [
       "Validation: |          | 0/? [00:00<?, ?it/s]"
      ]
     },
     "metadata": {},
     "output_type": "display_data"
    },
    {
     "data": {
      "application/vnd.jupyter.widget-view+json": {
       "model_id": "d2bb51c5f9204081ae6b4ba06f08485b",
       "version_major": 2,
       "version_minor": 0
      },
      "text/plain": [
       "Validation: |          | 0/? [00:00<?, ?it/s]"
      ]
     },
     "metadata": {},
     "output_type": "display_data"
    },
    {
     "data": {
      "application/vnd.jupyter.widget-view+json": {
       "model_id": "2d2541b200dd40e3b2ea052191698948",
       "version_major": 2,
       "version_minor": 0
      },
      "text/plain": [
       "Validation: |          | 0/? [00:00<?, ?it/s]"
      ]
     },
     "metadata": {},
     "output_type": "display_data"
    },
    {
     "data": {
      "application/vnd.jupyter.widget-view+json": {
       "model_id": "b3baf1a99f954685b54f8bf934d1713a",
       "version_major": 2,
       "version_minor": 0
      },
      "text/plain": [
       "Validation: |          | 0/? [00:00<?, ?it/s]"
      ]
     },
     "metadata": {},
     "output_type": "display_data"
    },
    {
     "data": {
      "application/vnd.jupyter.widget-view+json": {
       "model_id": "d63e672642324ebbb23ff7a5e00eb184",
       "version_major": 2,
       "version_minor": 0
      },
      "text/plain": [
       "Validation: |          | 0/? [00:00<?, ?it/s]"
      ]
     },
     "metadata": {},
     "output_type": "display_data"
    },
    {
     "data": {
      "application/vnd.jupyter.widget-view+json": {
       "model_id": "f2484b98e9274f04b30763bd8b44149e",
       "version_major": 2,
       "version_minor": 0
      },
      "text/plain": [
       "Validation: |          | 0/? [00:00<?, ?it/s]"
      ]
     },
     "metadata": {},
     "output_type": "display_data"
    },
    {
     "data": {
      "application/vnd.jupyter.widget-view+json": {
       "model_id": "96faa333450046a4a52453d17b8c3904",
       "version_major": 2,
       "version_minor": 0
      },
      "text/plain": [
       "Validation: |          | 0/? [00:00<?, ?it/s]"
      ]
     },
     "metadata": {},
     "output_type": "display_data"
    },
    {
     "data": {
      "application/vnd.jupyter.widget-view+json": {
       "model_id": "e33417cc08014055937502290d9b9ceb",
       "version_major": 2,
       "version_minor": 0
      },
      "text/plain": [
       "Validation: |          | 0/? [00:00<?, ?it/s]"
      ]
     },
     "metadata": {},
     "output_type": "display_data"
    },
    {
     "data": {
      "application/vnd.jupyter.widget-view+json": {
       "model_id": "dd15fa1d820f470791a34170439a6e49",
       "version_major": 2,
       "version_minor": 0
      },
      "text/plain": [
       "Validation: |          | 0/? [00:00<?, ?it/s]"
      ]
     },
     "metadata": {},
     "output_type": "display_data"
    },
    {
     "data": {
      "application/vnd.jupyter.widget-view+json": {
       "model_id": "5eb0be710fad44449cec25b47249fb46",
       "version_major": 2,
       "version_minor": 0
      },
      "text/plain": [
       "Validation: |          | 0/? [00:00<?, ?it/s]"
      ]
     },
     "metadata": {},
     "output_type": "display_data"
    },
    {
     "data": {
      "application/vnd.jupyter.widget-view+json": {
       "model_id": "3938c24f7505414ca052304cfb372b7e",
       "version_major": 2,
       "version_minor": 0
      },
      "text/plain": [
       "Validation: |          | 0/? [00:00<?, ?it/s]"
      ]
     },
     "metadata": {},
     "output_type": "display_data"
    },
    {
     "data": {
      "application/vnd.jupyter.widget-view+json": {
       "model_id": "aaf16782108149a1b0d32e7233426f74",
       "version_major": 2,
       "version_minor": 0
      },
      "text/plain": [
       "Validation: |          | 0/? [00:00<?, ?it/s]"
      ]
     },
     "metadata": {},
     "output_type": "display_data"
    },
    {
     "data": {
      "application/vnd.jupyter.widget-view+json": {
       "model_id": "34f6c08ab45f4937a8088e81937f0ae9",
       "version_major": 2,
       "version_minor": 0
      },
      "text/plain": [
       "Validation: |          | 0/? [00:00<?, ?it/s]"
      ]
     },
     "metadata": {},
     "output_type": "display_data"
    },
    {
     "data": {
      "application/vnd.jupyter.widget-view+json": {
       "model_id": "d8039d3e637b4a76861f829c77d2f396",
       "version_major": 2,
       "version_minor": 0
      },
      "text/plain": [
       "Validation: |          | 0/? [00:00<?, ?it/s]"
      ]
     },
     "metadata": {},
     "output_type": "display_data"
    },
    {
     "data": {
      "application/vnd.jupyter.widget-view+json": {
       "model_id": "c3bd31387c924fcb90184f5f82ddfb7e",
       "version_major": 2,
       "version_minor": 0
      },
      "text/plain": [
       "Validation: |          | 0/? [00:00<?, ?it/s]"
      ]
     },
     "metadata": {},
     "output_type": "display_data"
    },
    {
     "data": {
      "application/vnd.jupyter.widget-view+json": {
       "model_id": "7907067d81aa466382efe42fdf504be1",
       "version_major": 2,
       "version_minor": 0
      },
      "text/plain": [
       "Validation: |          | 0/? [00:00<?, ?it/s]"
      ]
     },
     "metadata": {},
     "output_type": "display_data"
    },
    {
     "data": {
      "application/vnd.jupyter.widget-view+json": {
       "model_id": "c2ebc814255946719e25af7e5a0eafe7",
       "version_major": 2,
       "version_minor": 0
      },
      "text/plain": [
       "Validation: |          | 0/? [00:00<?, ?it/s]"
      ]
     },
     "metadata": {},
     "output_type": "display_data"
    },
    {
     "data": {
      "application/vnd.jupyter.widget-view+json": {
       "model_id": "0da9628584fa442fbf8f54237c8a1aa8",
       "version_major": 2,
       "version_minor": 0
      },
      "text/plain": [
       "Validation: |          | 0/? [00:00<?, ?it/s]"
      ]
     },
     "metadata": {},
     "output_type": "display_data"
    },
    {
     "data": {
      "application/vnd.jupyter.widget-view+json": {
       "model_id": "194a6f0cdb20463895bae1d14684578d",
       "version_major": 2,
       "version_minor": 0
      },
      "text/plain": [
       "Validation: |          | 0/? [00:00<?, ?it/s]"
      ]
     },
     "metadata": {},
     "output_type": "display_data"
    },
    {
     "data": {
      "application/vnd.jupyter.widget-view+json": {
       "model_id": "87d4f14dc14049ed9cb3239b2f293dfe",
       "version_major": 2,
       "version_minor": 0
      },
      "text/plain": [
       "Validation: |          | 0/? [00:00<?, ?it/s]"
      ]
     },
     "metadata": {},
     "output_type": "display_data"
    },
    {
     "data": {
      "application/vnd.jupyter.widget-view+json": {
       "model_id": "b6d023e75e14430b874f4f3a4d551ad2",
       "version_major": 2,
       "version_minor": 0
      },
      "text/plain": [
       "Validation: |          | 0/? [00:00<?, ?it/s]"
      ]
     },
     "metadata": {},
     "output_type": "display_data"
    },
    {
     "data": {
      "application/vnd.jupyter.widget-view+json": {
       "model_id": "87f3a37eaa1c4e1a909ecd7319c863e1",
       "version_major": 2,
       "version_minor": 0
      },
      "text/plain": [
       "Validation: |          | 0/? [00:00<?, ?it/s]"
      ]
     },
     "metadata": {},
     "output_type": "display_data"
    },
    {
     "data": {
      "application/vnd.jupyter.widget-view+json": {
       "model_id": "fc71f84f92a849daa546ff1351e26944",
       "version_major": 2,
       "version_minor": 0
      },
      "text/plain": [
       "Validation: |          | 0/? [00:00<?, ?it/s]"
      ]
     },
     "metadata": {},
     "output_type": "display_data"
    },
    {
     "data": {
      "application/vnd.jupyter.widget-view+json": {
       "model_id": "ae117f4de9ff48e992595b7ac9d29ae0",
       "version_major": 2,
       "version_minor": 0
      },
      "text/plain": [
       "Validation: |          | 0/? [00:00<?, ?it/s]"
      ]
     },
     "metadata": {},
     "output_type": "display_data"
    },
    {
     "data": {
      "application/vnd.jupyter.widget-view+json": {
       "model_id": "7b95139fceb749a59231ac1dda4a6d49",
       "version_major": 2,
       "version_minor": 0
      },
      "text/plain": [
       "Validation: |          | 0/? [00:00<?, ?it/s]"
      ]
     },
     "metadata": {},
     "output_type": "display_data"
    },
    {
     "data": {
      "application/vnd.jupyter.widget-view+json": {
       "model_id": "aa80f9481a924a418a13d5fb53290ef4",
       "version_major": 2,
       "version_minor": 0
      },
      "text/plain": [
       "Validation: |          | 0/? [00:00<?, ?it/s]"
      ]
     },
     "metadata": {},
     "output_type": "display_data"
    },
    {
     "data": {
      "application/vnd.jupyter.widget-view+json": {
       "model_id": "a33c8949da2547509a9043f7ef41d783",
       "version_major": 2,
       "version_minor": 0
      },
      "text/plain": [
       "Validation: |          | 0/? [00:00<?, ?it/s]"
      ]
     },
     "metadata": {},
     "output_type": "display_data"
    },
    {
     "data": {
      "application/vnd.jupyter.widget-view+json": {
       "model_id": "02ec27bf5df640838df5c6e4fbc6bb34",
       "version_major": 2,
       "version_minor": 0
      },
      "text/plain": [
       "Validation: |          | 0/? [00:00<?, ?it/s]"
      ]
     },
     "metadata": {},
     "output_type": "display_data"
    },
    {
     "data": {
      "application/vnd.jupyter.widget-view+json": {
       "model_id": "b46d3c7d59de40318e7e1da0e5942293",
       "version_major": 2,
       "version_minor": 0
      },
      "text/plain": [
       "Validation: |          | 0/? [00:00<?, ?it/s]"
      ]
     },
     "metadata": {},
     "output_type": "display_data"
    },
    {
     "data": {
      "application/vnd.jupyter.widget-view+json": {
       "model_id": "81dcc2873cf0475c8b5be6a35b9eba97",
       "version_major": 2,
       "version_minor": 0
      },
      "text/plain": [
       "Validation: |          | 0/? [00:00<?, ?it/s]"
      ]
     },
     "metadata": {},
     "output_type": "display_data"
    },
    {
     "data": {
      "application/vnd.jupyter.widget-view+json": {
       "model_id": "b902ad7668df4aa797b595fc69f827b4",
       "version_major": 2,
       "version_minor": 0
      },
      "text/plain": [
       "Validation: |          | 0/? [00:00<?, ?it/s]"
      ]
     },
     "metadata": {},
     "output_type": "display_data"
    },
    {
     "data": {
      "application/vnd.jupyter.widget-view+json": {
       "model_id": "21780b4a40024f8fbf8133e251f80881",
       "version_major": 2,
       "version_minor": 0
      },
      "text/plain": [
       "Validation: |          | 0/? [00:00<?, ?it/s]"
      ]
     },
     "metadata": {},
     "output_type": "display_data"
    },
    {
     "data": {
      "application/vnd.jupyter.widget-view+json": {
       "model_id": "bb3118db7a274e83be867596b66976ed",
       "version_major": 2,
       "version_minor": 0
      },
      "text/plain": [
       "Validation: |          | 0/? [00:00<?, ?it/s]"
      ]
     },
     "metadata": {},
     "output_type": "display_data"
    },
    {
     "data": {
      "application/vnd.jupyter.widget-view+json": {
       "model_id": "5dd64f8b4a834e658f9479a1fbb17e11",
       "version_major": 2,
       "version_minor": 0
      },
      "text/plain": [
       "Validation: |          | 0/? [00:00<?, ?it/s]"
      ]
     },
     "metadata": {},
     "output_type": "display_data"
    },
    {
     "data": {
      "application/vnd.jupyter.widget-view+json": {
       "model_id": "c9b0602b5b164c469c9717e0d259b585",
       "version_major": 2,
       "version_minor": 0
      },
      "text/plain": [
       "Validation: |          | 0/? [00:00<?, ?it/s]"
      ]
     },
     "metadata": {},
     "output_type": "display_data"
    },
    {
     "data": {
      "application/vnd.jupyter.widget-view+json": {
       "model_id": "060a3564c4ef4ba693084194f6c2055f",
       "version_major": 2,
       "version_minor": 0
      },
      "text/plain": [
       "Validation: |          | 0/? [00:00<?, ?it/s]"
      ]
     },
     "metadata": {},
     "output_type": "display_data"
    },
    {
     "data": {
      "application/vnd.jupyter.widget-view+json": {
       "model_id": "dfe5247f90b24332adfd5db8afa3fd4c",
       "version_major": 2,
       "version_minor": 0
      },
      "text/plain": [
       "Validation: |          | 0/? [00:00<?, ?it/s]"
      ]
     },
     "metadata": {},
     "output_type": "display_data"
    },
    {
     "data": {
      "application/vnd.jupyter.widget-view+json": {
       "model_id": "3f025674773f4309bb4b49f0c1541f9e",
       "version_major": 2,
       "version_minor": 0
      },
      "text/plain": [
       "Validation: |          | 0/? [00:00<?, ?it/s]"
      ]
     },
     "metadata": {},
     "output_type": "display_data"
    },
    {
     "data": {
      "application/vnd.jupyter.widget-view+json": {
       "model_id": "af34334f3296414c91af7df6b8318711",
       "version_major": 2,
       "version_minor": 0
      },
      "text/plain": [
       "Validation: |          | 0/? [00:00<?, ?it/s]"
      ]
     },
     "metadata": {},
     "output_type": "display_data"
    },
    {
     "data": {
      "application/vnd.jupyter.widget-view+json": {
       "model_id": "9a900064965f428d917cc5ef9b0987e2",
       "version_major": 2,
       "version_minor": 0
      },
      "text/plain": [
       "Validation: |          | 0/? [00:00<?, ?it/s]"
      ]
     },
     "metadata": {},
     "output_type": "display_data"
    },
    {
     "data": {
      "application/vnd.jupyter.widget-view+json": {
       "model_id": "ef61f9b4f4e84ebd8fc54e9f23565e1c",
       "version_major": 2,
       "version_minor": 0
      },
      "text/plain": [
       "Validation: |          | 0/? [00:00<?, ?it/s]"
      ]
     },
     "metadata": {},
     "output_type": "display_data"
    },
    {
     "data": {
      "application/vnd.jupyter.widget-view+json": {
       "model_id": "d286a434d5634846a4fe7d6e240681b6",
       "version_major": 2,
       "version_minor": 0
      },
      "text/plain": [
       "Validation: |          | 0/? [00:00<?, ?it/s]"
      ]
     },
     "metadata": {},
     "output_type": "display_data"
    },
    {
     "data": {
      "application/vnd.jupyter.widget-view+json": {
       "model_id": "385f13c4e6e4400984310cdf8efa4963",
       "version_major": 2,
       "version_minor": 0
      },
      "text/plain": [
       "Validation: |          | 0/? [00:00<?, ?it/s]"
      ]
     },
     "metadata": {},
     "output_type": "display_data"
    },
    {
     "data": {
      "application/vnd.jupyter.widget-view+json": {
       "model_id": "d9b37db8450e46a5af9e89eb1ccfd015",
       "version_major": 2,
       "version_minor": 0
      },
      "text/plain": [
       "Validation: |          | 0/? [00:00<?, ?it/s]"
      ]
     },
     "metadata": {},
     "output_type": "display_data"
    },
    {
     "data": {
      "application/vnd.jupyter.widget-view+json": {
       "model_id": "4d7db933c71e4db89a2843bd5fe85968",
       "version_major": 2,
       "version_minor": 0
      },
      "text/plain": [
       "Validation: |          | 0/? [00:00<?, ?it/s]"
      ]
     },
     "metadata": {},
     "output_type": "display_data"
    },
    {
     "data": {
      "application/vnd.jupyter.widget-view+json": {
       "model_id": "a6192eb45fc54f25b2965819ac4b0e08",
       "version_major": 2,
       "version_minor": 0
      },
      "text/plain": [
       "Validation: |          | 0/? [00:00<?, ?it/s]"
      ]
     },
     "metadata": {},
     "output_type": "display_data"
    },
    {
     "data": {
      "application/vnd.jupyter.widget-view+json": {
       "model_id": "5748d4c5f531412498cb1de322c3068d",
       "version_major": 2,
       "version_minor": 0
      },
      "text/plain": [
       "Validation: |          | 0/? [00:00<?, ?it/s]"
      ]
     },
     "metadata": {},
     "output_type": "display_data"
    },
    {
     "data": {
      "application/vnd.jupyter.widget-view+json": {
       "model_id": "1854e2b53cfc496995f932be114947d6",
       "version_major": 2,
       "version_minor": 0
      },
      "text/plain": [
       "Validation: |          | 0/? [00:00<?, ?it/s]"
      ]
     },
     "metadata": {},
     "output_type": "display_data"
    },
    {
     "data": {
      "application/vnd.jupyter.widget-view+json": {
       "model_id": "d29f959cb111402b85f62d923738b2a5",
       "version_major": 2,
       "version_minor": 0
      },
      "text/plain": [
       "Validation: |          | 0/? [00:00<?, ?it/s]"
      ]
     },
     "metadata": {},
     "output_type": "display_data"
    },
    {
     "data": {
      "application/vnd.jupyter.widget-view+json": {
       "model_id": "5fd0a48023104a10ad40c52dbbb9d987",
       "version_major": 2,
       "version_minor": 0
      },
      "text/plain": [
       "Validation: |          | 0/? [00:00<?, ?it/s]"
      ]
     },
     "metadata": {},
     "output_type": "display_data"
    },
    {
     "data": {
      "application/vnd.jupyter.widget-view+json": {
       "model_id": "2fc9e4f2d86945f08ea6e7e98b4fb781",
       "version_major": 2,
       "version_minor": 0
      },
      "text/plain": [
       "Validation: |          | 0/? [00:00<?, ?it/s]"
      ]
     },
     "metadata": {},
     "output_type": "display_data"
    },
    {
     "data": {
      "application/vnd.jupyter.widget-view+json": {
       "model_id": "37de714e1c264706b99df33000021aa2",
       "version_major": 2,
       "version_minor": 0
      },
      "text/plain": [
       "Validation: |          | 0/? [00:00<?, ?it/s]"
      ]
     },
     "metadata": {},
     "output_type": "display_data"
    },
    {
     "data": {
      "application/vnd.jupyter.widget-view+json": {
       "model_id": "3809186a92ea45c68868e94d0a3b22b5",
       "version_major": 2,
       "version_minor": 0
      },
      "text/plain": [
       "Validation: |          | 0/? [00:00<?, ?it/s]"
      ]
     },
     "metadata": {},
     "output_type": "display_data"
    },
    {
     "data": {
      "application/vnd.jupyter.widget-view+json": {
       "model_id": "ebf312fe33474fe0b1f52671bf722624",
       "version_major": 2,
       "version_minor": 0
      },
      "text/plain": [
       "Validation: |          | 0/? [00:00<?, ?it/s]"
      ]
     },
     "metadata": {},
     "output_type": "display_data"
    },
    {
     "data": {
      "application/vnd.jupyter.widget-view+json": {
       "model_id": "645036d8b7164bd9b56ae1db92e2fec7",
       "version_major": 2,
       "version_minor": 0
      },
      "text/plain": [
       "Validation: |          | 0/? [00:00<?, ?it/s]"
      ]
     },
     "metadata": {},
     "output_type": "display_data"
    },
    {
     "data": {
      "application/vnd.jupyter.widget-view+json": {
       "model_id": "b4ad0e66667b43c3bdf7325a8ce019c2",
       "version_major": 2,
       "version_minor": 0
      },
      "text/plain": [
       "Validation: |          | 0/? [00:00<?, ?it/s]"
      ]
     },
     "metadata": {},
     "output_type": "display_data"
    },
    {
     "data": {
      "application/vnd.jupyter.widget-view+json": {
       "model_id": "2a00e5287dcd4c4d96d53d78f31913b8",
       "version_major": 2,
       "version_minor": 0
      },
      "text/plain": [
       "Validation: |          | 0/? [00:00<?, ?it/s]"
      ]
     },
     "metadata": {},
     "output_type": "display_data"
    },
    {
     "data": {
      "application/vnd.jupyter.widget-view+json": {
       "model_id": "2253fd2a9b0944349a86a5d4db74a753",
       "version_major": 2,
       "version_minor": 0
      },
      "text/plain": [
       "Validation: |          | 0/? [00:00<?, ?it/s]"
      ]
     },
     "metadata": {},
     "output_type": "display_data"
    },
    {
     "data": {
      "application/vnd.jupyter.widget-view+json": {
       "model_id": "8821da74e4ad41f89cc859665da2933d",
       "version_major": 2,
       "version_minor": 0
      },
      "text/plain": [
       "Validation: |          | 0/? [00:00<?, ?it/s]"
      ]
     },
     "metadata": {},
     "output_type": "display_data"
    },
    {
     "data": {
      "application/vnd.jupyter.widget-view+json": {
       "model_id": "a89677ff2886491dbb2410af9e558d42",
       "version_major": 2,
       "version_minor": 0
      },
      "text/plain": [
       "Validation: |          | 0/? [00:00<?, ?it/s]"
      ]
     },
     "metadata": {},
     "output_type": "display_data"
    },
    {
     "data": {
      "application/vnd.jupyter.widget-view+json": {
       "model_id": "431caf9167194e06aa91ed1bb16e1bbb",
       "version_major": 2,
       "version_minor": 0
      },
      "text/plain": [
       "Validation: |          | 0/? [00:00<?, ?it/s]"
      ]
     },
     "metadata": {},
     "output_type": "display_data"
    },
    {
     "data": {
      "application/vnd.jupyter.widget-view+json": {
       "model_id": "4e9f8e04f8774005ab2614654314cbd3",
       "version_major": 2,
       "version_minor": 0
      },
      "text/plain": [
       "Validation: |          | 0/? [00:00<?, ?it/s]"
      ]
     },
     "metadata": {},
     "output_type": "display_data"
    },
    {
     "data": {
      "application/vnd.jupyter.widget-view+json": {
       "model_id": "0be65477b5b544bd938febfd5839d293",
       "version_major": 2,
       "version_minor": 0
      },
      "text/plain": [
       "Validation: |          | 0/? [00:00<?, ?it/s]"
      ]
     },
     "metadata": {},
     "output_type": "display_data"
    },
    {
     "data": {
      "application/vnd.jupyter.widget-view+json": {
       "model_id": "5d07f1aee8214771b465ff1c81d570b4",
       "version_major": 2,
       "version_minor": 0
      },
      "text/plain": [
       "Validation: |          | 0/? [00:00<?, ?it/s]"
      ]
     },
     "metadata": {},
     "output_type": "display_data"
    },
    {
     "data": {
      "application/vnd.jupyter.widget-view+json": {
       "model_id": "43d0ee274feb42be82ed9070e838258a",
       "version_major": 2,
       "version_minor": 0
      },
      "text/plain": [
       "Validation: |          | 0/? [00:00<?, ?it/s]"
      ]
     },
     "metadata": {},
     "output_type": "display_data"
    },
    {
     "data": {
      "application/vnd.jupyter.widget-view+json": {
       "model_id": "7d91f9f9e9dd45f6aabb07b8cc5ef981",
       "version_major": 2,
       "version_minor": 0
      },
      "text/plain": [
       "Validation: |          | 0/? [00:00<?, ?it/s]"
      ]
     },
     "metadata": {},
     "output_type": "display_data"
    },
    {
     "data": {
      "application/vnd.jupyter.widget-view+json": {
       "model_id": "540a8b518d7f41a199b409e0ffb61da3",
       "version_major": 2,
       "version_minor": 0
      },
      "text/plain": [
       "Validation: |          | 0/? [00:00<?, ?it/s]"
      ]
     },
     "metadata": {},
     "output_type": "display_data"
    },
    {
     "data": {
      "application/vnd.jupyter.widget-view+json": {
       "model_id": "f017b85d195f40bbbbaeb6241b2a59f4",
       "version_major": 2,
       "version_minor": 0
      },
      "text/plain": [
       "Validation: |          | 0/? [00:00<?, ?it/s]"
      ]
     },
     "metadata": {},
     "output_type": "display_data"
    },
    {
     "data": {
      "application/vnd.jupyter.widget-view+json": {
       "model_id": "7955b823ccfb44068a61732a3bba0a79",
       "version_major": 2,
       "version_minor": 0
      },
      "text/plain": [
       "Validation: |          | 0/? [00:00<?, ?it/s]"
      ]
     },
     "metadata": {},
     "output_type": "display_data"
    },
    {
     "data": {
      "application/vnd.jupyter.widget-view+json": {
       "model_id": "edd7c5c1fd434ff4bd1c1b3e3344b08c",
       "version_major": 2,
       "version_minor": 0
      },
      "text/plain": [
       "Validation: |          | 0/? [00:00<?, ?it/s]"
      ]
     },
     "metadata": {},
     "output_type": "display_data"
    },
    {
     "data": {
      "application/vnd.jupyter.widget-view+json": {
       "model_id": "7592933a28724c849a2c9c64d3801283",
       "version_major": 2,
       "version_minor": 0
      },
      "text/plain": [
       "Validation: |          | 0/? [00:00<?, ?it/s]"
      ]
     },
     "metadata": {},
     "output_type": "display_data"
    },
    {
     "data": {
      "application/vnd.jupyter.widget-view+json": {
       "model_id": "286d5832a4fc4c7ea48e8bd31044423a",
       "version_major": 2,
       "version_minor": 0
      },
      "text/plain": [
       "Validation: |          | 0/? [00:00<?, ?it/s]"
      ]
     },
     "metadata": {},
     "output_type": "display_data"
    },
    {
     "data": {
      "application/vnd.jupyter.widget-view+json": {
       "model_id": "be153ca382bd4048acc5d2ad9ea1d935",
       "version_major": 2,
       "version_minor": 0
      },
      "text/plain": [
       "Validation: |          | 0/? [00:00<?, ?it/s]"
      ]
     },
     "metadata": {},
     "output_type": "display_data"
    },
    {
     "data": {
      "application/vnd.jupyter.widget-view+json": {
       "model_id": "43c25d5423e44a35aac244e9abb186d6",
       "version_major": 2,
       "version_minor": 0
      },
      "text/plain": [
       "Validation: |          | 0/? [00:00<?, ?it/s]"
      ]
     },
     "metadata": {},
     "output_type": "display_data"
    },
    {
     "data": {
      "application/vnd.jupyter.widget-view+json": {
       "model_id": "6d5f275018974e1390f97661df9b2dfb",
       "version_major": 2,
       "version_minor": 0
      },
      "text/plain": [
       "Validation: |          | 0/? [00:00<?, ?it/s]"
      ]
     },
     "metadata": {},
     "output_type": "display_data"
    },
    {
     "data": {
      "application/vnd.jupyter.widget-view+json": {
       "model_id": "b97ce633c89a4d9e947819d865e70a4a",
       "version_major": 2,
       "version_minor": 0
      },
      "text/plain": [
       "Validation: |          | 0/? [00:00<?, ?it/s]"
      ]
     },
     "metadata": {},
     "output_type": "display_data"
    },
    {
     "data": {
      "application/vnd.jupyter.widget-view+json": {
       "model_id": "00c63d005a404d409aaa8501e290011d",
       "version_major": 2,
       "version_minor": 0
      },
      "text/plain": [
       "Validation: |          | 0/? [00:00<?, ?it/s]"
      ]
     },
     "metadata": {},
     "output_type": "display_data"
    },
    {
     "data": {
      "application/vnd.jupyter.widget-view+json": {
       "model_id": "c071ffe6682f45c7bdf972c8936c3ace",
       "version_major": 2,
       "version_minor": 0
      },
      "text/plain": [
       "Validation: |          | 0/? [00:00<?, ?it/s]"
      ]
     },
     "metadata": {},
     "output_type": "display_data"
    },
    {
     "data": {
      "application/vnd.jupyter.widget-view+json": {
       "model_id": "06a17d6dee404131a59ee461aa44e458",
       "version_major": 2,
       "version_minor": 0
      },
      "text/plain": [
       "Validation: |          | 0/? [00:00<?, ?it/s]"
      ]
     },
     "metadata": {},
     "output_type": "display_data"
    },
    {
     "data": {
      "application/vnd.jupyter.widget-view+json": {
       "model_id": "7bb94b417b4c482681ce96dd736af8f9",
       "version_major": 2,
       "version_minor": 0
      },
      "text/plain": [
       "Validation: |          | 0/? [00:00<?, ?it/s]"
      ]
     },
     "metadata": {},
     "output_type": "display_data"
    },
    {
     "data": {
      "application/vnd.jupyter.widget-view+json": {
       "model_id": "e224827b6c834c2191c49d6cdf7ab23e",
       "version_major": 2,
       "version_minor": 0
      },
      "text/plain": [
       "Validation: |          | 0/? [00:00<?, ?it/s]"
      ]
     },
     "metadata": {},
     "output_type": "display_data"
    },
    {
     "data": {
      "application/vnd.jupyter.widget-view+json": {
       "model_id": "1c906dea6f0641739d1154d84fd8d25c",
       "version_major": 2,
       "version_minor": 0
      },
      "text/plain": [
       "Validation: |          | 0/? [00:00<?, ?it/s]"
      ]
     },
     "metadata": {},
     "output_type": "display_data"
    },
    {
     "data": {
      "application/vnd.jupyter.widget-view+json": {
       "model_id": "58b07a8052ab4ea79a863b090ed2d9ae",
       "version_major": 2,
       "version_minor": 0
      },
      "text/plain": [
       "Validation: |          | 0/? [00:00<?, ?it/s]"
      ]
     },
     "metadata": {},
     "output_type": "display_data"
    },
    {
     "data": {
      "application/vnd.jupyter.widget-view+json": {
       "model_id": "33156aae32a94205b261086efc15175d",
       "version_major": 2,
       "version_minor": 0
      },
      "text/plain": [
       "Validation: |          | 0/? [00:00<?, ?it/s]"
      ]
     },
     "metadata": {},
     "output_type": "display_data"
    },
    {
     "data": {
      "application/vnd.jupyter.widget-view+json": {
       "model_id": "bb469f0d48b34328a5cb7f435929ed61",
       "version_major": 2,
       "version_minor": 0
      },
      "text/plain": [
       "Validation: |          | 0/? [00:00<?, ?it/s]"
      ]
     },
     "metadata": {},
     "output_type": "display_data"
    },
    {
     "data": {
      "application/vnd.jupyter.widget-view+json": {
       "model_id": "2269ddb5c1af4af987be8989ff2691d9",
       "version_major": 2,
       "version_minor": 0
      },
      "text/plain": [
       "Validation: |          | 0/? [00:00<?, ?it/s]"
      ]
     },
     "metadata": {},
     "output_type": "display_data"
    },
    {
     "data": {
      "application/vnd.jupyter.widget-view+json": {
       "model_id": "dc73bcce23bc4226b46c6256d79cb53c",
       "version_major": 2,
       "version_minor": 0
      },
      "text/plain": [
       "Validation: |          | 0/? [00:00<?, ?it/s]"
      ]
     },
     "metadata": {},
     "output_type": "display_data"
    },
    {
     "data": {
      "application/vnd.jupyter.widget-view+json": {
       "model_id": "b22316d5af8740cc8177f09d3ac361d7",
       "version_major": 2,
       "version_minor": 0
      },
      "text/plain": [
       "Validation: |          | 0/? [00:00<?, ?it/s]"
      ]
     },
     "metadata": {},
     "output_type": "display_data"
    },
    {
     "data": {
      "application/vnd.jupyter.widget-view+json": {
       "model_id": "4454f60681e148d0865da4f6bdaf480d",
       "version_major": 2,
       "version_minor": 0
      },
      "text/plain": [
       "Validation: |          | 0/? [00:00<?, ?it/s]"
      ]
     },
     "metadata": {},
     "output_type": "display_data"
    },
    {
     "data": {
      "application/vnd.jupyter.widget-view+json": {
       "model_id": "70fda9becc084eb99b6097553177be28",
       "version_major": 2,
       "version_minor": 0
      },
      "text/plain": [
       "Validation: |          | 0/? [00:00<?, ?it/s]"
      ]
     },
     "metadata": {},
     "output_type": "display_data"
    },
    {
     "data": {
      "application/vnd.jupyter.widget-view+json": {
       "model_id": "e1a8daf0ad0848cab71ef796786c17f8",
       "version_major": 2,
       "version_minor": 0
      },
      "text/plain": [
       "Validation: |          | 0/? [00:00<?, ?it/s]"
      ]
     },
     "metadata": {},
     "output_type": "display_data"
    },
    {
     "name": "stderr",
     "output_type": "stream",
     "text": [
      "`Trainer.fit` stopped: `max_epochs=100` reached.\n"
     ]
    }
   ],
   "source": [
    "trainer.fit(model, dm)"
   ]
  },
  {
   "cell_type": "code",
   "execution_count": 7,
   "metadata": {},
   "outputs": [],
   "source": [
    "def compute_losses(y, y_pred, loss_fn):\n",
    "    losses = []\n",
    "    for _y, _y_pred in zip(y, y_pred):\n",
    "        loss = loss_fn(_y, _y_pred)\n",
    "        loss = loss.detach().numpy().item()\n",
    "        losses.append(loss)\n",
    "    return losses"
   ]
  },
  {
   "cell_type": "markdown",
   "metadata": {},
   "source": [
    "## Predict"
   ]
  },
  {
   "cell_type": "code",
   "execution_count": 12,
   "metadata": {},
   "outputs": [],
   "source": [
    "dm.setup(\"fit\")\n",
    "train_dataset = dm.train_dataloader().dataset\n",
    "\n",
    "dm.setup(\"test\")\n",
    "test_dataset = dm.test_dataloader().dataset"
   ]
  },
  {
   "cell_type": "markdown",
   "metadata": {},
   "source": [
    "### Defining Anomaly Threshold"
   ]
  },
  {
   "cell_type": "code",
   "execution_count": 13,
   "metadata": {},
   "outputs": [],
   "source": [
    "x_train = torch.stack([torch.Tensor(x) for x, y in train_dataset])\n",
    "y_train = np.array([y for x, y in train_dataset])\n",
    "x_train_hat = model(x_train)"
   ]
  },
  {
   "cell_type": "code",
   "execution_count": 14,
   "metadata": {},
   "outputs": [
    {
     "data": {
      "text/plain": [
       "0.3742748498916626"
      ]
     },
     "execution_count": 14,
     "metadata": {},
     "output_type": "execute_result"
    }
   ],
   "source": [
    "mse = MeanSquaredError()\n",
    "losses = compute_losses(x_train, x_train_hat, mse)\n",
    "\n",
    "anomaly_threshold = max(losses)\n",
    "anomaly_threshold"
   ]
  },
  {
   "cell_type": "markdown",
   "metadata": {},
   "source": [
    "### Predicting on Test set"
   ]
  },
  {
   "cell_type": "code",
   "execution_count": 15,
   "metadata": {},
   "outputs": [],
   "source": [
    "x_test = torch.stack([torch.Tensor(x) for x, y in test_dataset])\n",
    "y_test = np.array([y for x, y in test_dataset])\n",
    "\n",
    "x_test_hat = model(x_test)"
   ]
  },
  {
   "cell_type": "code",
   "execution_count": 16,
   "metadata": {},
   "outputs": [],
   "source": [
    "mse = MeanSquaredError()\n",
    "losses = compute_losses(x_test, x_test_hat, mse)\n",
    "\n",
    "y_test_hat = [1 if loss > anomaly_threshold else 0 for loss in losses]"
   ]
  },
  {
   "cell_type": "code",
   "execution_count": 17,
   "metadata": {},
   "outputs": [
    {
     "data": {
      "text/html": [
       "<div>\n",
       "<style scoped>\n",
       "    .dataframe tbody tr th:only-of-type {\n",
       "        vertical-align: middle;\n",
       "    }\n",
       "\n",
       "    .dataframe tbody tr th {\n",
       "        vertical-align: top;\n",
       "    }\n",
       "\n",
       "    .dataframe thead th {\n",
       "        text-align: right;\n",
       "    }\n",
       "</style>\n",
       "<table border=\"1\" class=\"dataframe\">\n",
       "  <thead>\n",
       "    <tr style=\"text-align: right;\">\n",
       "      <th></th>\n",
       "      <th>true</th>\n",
       "      <th>predicted</th>\n",
       "      <th>loss</th>\n",
       "      <th>anomaly_threshold</th>\n",
       "    </tr>\n",
       "  </thead>\n",
       "  <tbody>\n",
       "    <tr>\n",
       "      <th>0</th>\n",
       "      <td>0</td>\n",
       "      <td>0</td>\n",
       "      <td>0.023700</td>\n",
       "      <td>0.374275</td>\n",
       "    </tr>\n",
       "    <tr>\n",
       "      <th>1</th>\n",
       "      <td>0</td>\n",
       "      <td>0</td>\n",
       "      <td>0.091413</td>\n",
       "      <td>0.374275</td>\n",
       "    </tr>\n",
       "    <tr>\n",
       "      <th>2</th>\n",
       "      <td>0</td>\n",
       "      <td>0</td>\n",
       "      <td>0.054299</td>\n",
       "      <td>0.374275</td>\n",
       "    </tr>\n",
       "    <tr>\n",
       "      <th>3</th>\n",
       "      <td>0</td>\n",
       "      <td>0</td>\n",
       "      <td>0.007486</td>\n",
       "      <td>0.374275</td>\n",
       "    </tr>\n",
       "    <tr>\n",
       "      <th>4</th>\n",
       "      <td>0</td>\n",
       "      <td>0</td>\n",
       "      <td>0.024601</td>\n",
       "      <td>0.374275</td>\n",
       "    </tr>\n",
       "    <tr>\n",
       "      <th>...</th>\n",
       "      <td>...</td>\n",
       "      <td>...</td>\n",
       "      <td>...</td>\n",
       "      <td>...</td>\n",
       "    </tr>\n",
       "    <tr>\n",
       "      <th>89</th>\n",
       "      <td>1</td>\n",
       "      <td>0</td>\n",
       "      <td>0.089833</td>\n",
       "      <td>0.374275</td>\n",
       "    </tr>\n",
       "    <tr>\n",
       "      <th>90</th>\n",
       "      <td>1</td>\n",
       "      <td>0</td>\n",
       "      <td>0.051562</td>\n",
       "      <td>0.374275</td>\n",
       "    </tr>\n",
       "    <tr>\n",
       "      <th>91</th>\n",
       "      <td>1</td>\n",
       "      <td>0</td>\n",
       "      <td>0.132748</td>\n",
       "      <td>0.374275</td>\n",
       "    </tr>\n",
       "    <tr>\n",
       "      <th>92</th>\n",
       "      <td>1</td>\n",
       "      <td>0</td>\n",
       "      <td>0.158610</td>\n",
       "      <td>0.374275</td>\n",
       "    </tr>\n",
       "    <tr>\n",
       "      <th>93</th>\n",
       "      <td>1</td>\n",
       "      <td>0</td>\n",
       "      <td>0.025522</td>\n",
       "      <td>0.374275</td>\n",
       "    </tr>\n",
       "  </tbody>\n",
       "</table>\n",
       "<p>94 rows × 4 columns</p>\n",
       "</div>"
      ],
      "text/plain": [
       "    true  predicted      loss  anomaly_threshold\n",
       "0      0          0  0.023700           0.374275\n",
       "1      0          0  0.091413           0.374275\n",
       "2      0          0  0.054299           0.374275\n",
       "3      0          0  0.007486           0.374275\n",
       "4      0          0  0.024601           0.374275\n",
       "..   ...        ...       ...                ...\n",
       "89     1          0  0.089833           0.374275\n",
       "90     1          0  0.051562           0.374275\n",
       "91     1          0  0.132748           0.374275\n",
       "92     1          0  0.158610           0.374275\n",
       "93     1          0  0.025522           0.374275\n",
       "\n",
       "[94 rows x 4 columns]"
      ]
     },
     "execution_count": 17,
     "metadata": {},
     "output_type": "execute_result"
    }
   ],
   "source": [
    "results_dataframe = pd.DataFrame(\n",
    "    {\n",
    "        \"true\": y_test,\n",
    "        \"predicted\": y_test_hat,\n",
    "        \"loss\": losses,\n",
    "        \"anomaly_threshold\": anomaly_threshold,\n",
    "    }\n",
    ")\n",
    "\n",
    "results_dataframe"
   ]
  },
  {
   "cell_type": "code",
   "execution_count": 18,
   "metadata": {},
   "outputs": [
    {
     "name": "stdout",
     "output_type": "stream",
     "text": [
      "F1-score: 0.0\n",
      "Recall: 0.0\n",
      "Balanced Accuracy: 0.5\n",
      "ROC AUC: 0.5\n"
     ]
    }
   ],
   "source": [
    "from sklearn.metrics import f1_score, recall_score, balanced_accuracy_score, roc_auc_score\n",
    "\n",
    "# Extract true and predicted labels from the results_dataframe\n",
    "true_labels = results_dataframe['true']\n",
    "predicted_labels = results_dataframe['predicted']\n",
    "\n",
    "# Calculate the F1-score\n",
    "f1 = f1_score(true_labels, predicted_labels)\n",
    "\n",
    "# Calculate the recall\n",
    "recall = recall_score(true_labels, predicted_labels)\n",
    "\n",
    "# Calculate the balanced accuracy\n",
    "balanced_acc = balanced_accuracy_score(true_labels, predicted_labels)\n",
    "\n",
    "# Calculate the ROC AUC\n",
    "roc_auc = roc_auc_score(true_labels, predicted_labels)\n",
    "\n",
    "# Print the results\n",
    "print(\"F1-score:\", f1)\n",
    "print(\"Recall:\", recall)\n",
    "print(\"Balanced Accuracy:\", balanced_acc)\n",
    "print(\"ROC AUC:\", roc_auc)"
   ]
  },
  {
   "cell_type": "code",
   "execution_count": 19,
   "metadata": {},
   "outputs": [
    {
     "data": {
      "image/png": "[encoded data removed]",
      "text/plain": [
       "<Figure size 800x600 with 2 Axes>"
      ]
     },
     "metadata": {},
     "output_type": "display_data"
    }
   ],
   "source": [
    "import numpy as np\n",
    "from sklearn.metrics import confusion_matrix\n",
    "\n",
    "import matplotlib.pyplot as plt\n",
    "\n",
    "# Get the true and predicted labels from the results_dataframe\n",
    "true_labels = results_dataframe['true']\n",
    "predicted_labels = results_dataframe['predicted']\n",
    "\n",
    "# Compute the confusion matrix\n",
    "cm = confusion_matrix(true_labels, predicted_labels)\n",
    "\n",
    "# Define the class labels\n",
    "class_labels = ['Normal', 'Anomaly']\n",
    "\n",
    "# Plot the confusion matrix\n",
    "plt.figure(figsize=(8, 6))\n",
    "plt.imshow(cm, interpolation='nearest', cmap=plt.cm.Blues)\n",
    "plt.title('Confusion Matrix')\n",
    "plt.colorbar()\n",
    "tick_marks = np.arange(len(class_labels))\n",
    "plt.xticks(tick_marks, class_labels, rotation=45)\n",
    "plt.yticks(tick_marks, class_labels)\n",
    "plt.xlabel('Predicted Label')\n",
    "plt.ylabel('True Label')\n",
    "\n",
    "# Add the values to the confusion matrix plot\n",
    "thresh = cm.max() / 2.\n",
    "for i in range(cm.shape[0]):\n",
    "    for j in range(cm.shape[1]):\n",
    "        plt.text(j, i, format(cm[i, j], 'd'),\n",
    "                 horizontalalignment=\"center\",\n",
    "                 color=\"white\" if cm[i, j] > thresh else \"black\")\n",
    "\n",
    "plt.tight_layout()\n",
    "plt.show()"
   ]
  },
  {
   "cell_type": "code",
   "execution_count": null,
   "metadata": {},
   "outputs": [],
   "source": []
  }
 ],
 "metadata": {
  "kernelspec": {
   "display_name": "Python 3 (ipykernel)",
   "language": "python",
   "name": "python3"
  },
  "language_info": {
   "codemirror_mode": {
    "name": "ipython",
    "version": 3
   },
   "file_extension": ".py",
   "mimetype": "text/x-python",
   "name": "python",
   "nbconvert_exporter": "python",
   "pygments_lexer": "ipython3",
   "version": "3.10.6"
  }
 },
 "nbformat": 4,
 "nbformat_minor": 2
}
