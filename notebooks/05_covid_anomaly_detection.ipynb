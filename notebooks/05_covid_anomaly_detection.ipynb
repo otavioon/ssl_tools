{
 "cells": [
  {
   "cell_type": "markdown",
   "metadata": {},
   "source": [
    "# 5. Training an Anomaly Detection Model for Covid Anomaly Detection\n",
    "\n",
    "## Overview\n",
    "\n",
    "In this tutorial, we will train an anomaly detection model using a simple [LSTM-AutoEncoder model](https://www.medrxiv.org/content/10.1101/2021.01.08.21249474v1).\n",
    "Data can be obtained from [this link](https://iscteiul365-my.sharepoint.com/:u:/g/personal/oonia_iscte-iul_pt/ERZLm1ruUNpMqkSwjpqhE9wB_7loVWAC4yZWuIH2RKGOlQ?e=kD4HlI). This is a processed version of data from original Stanford dataset-Phase 2. The overall pre-processing pipeline used is illustrated in Figure below.\n",
    "\n",
    "![preprocessing](stanford_data_processing.png)"
   ]
  },
  {
   "cell_type": "markdown",
   "metadata": {},
   "source": [
    "Data was aquired from diferent sources (Germin, FitBit, Apple Watch) and pre-processed to have a common format. In this form, data has two columns: heart rate and number of user steps in last minute. \n",
    "\n",
    "The processing pipeline is then applied to the data. The pipeline is composed of the following steps:\n",
    "1. Once data was standardized, the resting heart rate was extracted (``Resting Heart Rate Extractor``, in Figure). This process takes as input `min_minutes_rest` that is the number of minutes that the user has to be at rest to consider the heart rate as resting. `min_minutes_rest` variable looks at user steps and, when user steps is 0 for `min_minutes_rest` minutes, the heart rate is considered as resting. At the end of this process, we will have a new dataframe with: the date (`datetime` column) and the resting heart rate of the last minute (`RHR` column).\n",
    "\n",
    "2. The smoother process is applied to the data (`Smoother`, in Figure). This process takes as input `smooth_window_sample` that is the number of samples that we will use to smooth the data, and `sample_rate` that is the sample rate. The smoother process will apply a moving average filter to the data, with a window of `smooth_window_sample` samples. Then the data is downsampled to `sample_rate` samples per minute. This process will produce a new dataframe with the date (`datetime` column), the resting heart rate at desired sampling rate (`RHR` column).\n",
    "\n",
    "3. The second step is adding labels (`Label Adder`, in Figure). Is is also illustrated in Figure below. This process takes 3 inputs: `baseline_days`, `before_onset`, and `after_onset`. The `baseline_days` is the number of days before the onset of the symptoms that we consider as baseline (in figure below, this is 21 days). Thus, using the dataframe from last step, a new column named `baseline` is added, which is a boolean column that is True if the date is in the baseline period (21 days before onset). The `before_onset` and `after_onset` are the number of days before and after the onset of the symptoms that we consider as the anomaly period (7 days before and 21 days before, in Figure below). A new column named `anomaly` is added, which is a boolean column that is True if the date is in the anomaly period. Finnaly, we also add a `status` column,that is a metadata column for a descriptive status of the date. If can be: \n",
    "   - `normal`: if the date is in the baseline period; \n",
    "   - `before onset`: if the date is in the period before the onset of the symptoms; \n",
    "   - `onset` if the date is the onset of the symptoms (day); \n",
    "   - `after onset` if the date is in the period after the onset of the symptoms, but before the recovery; \n",
    "   - `recovered` if the date is in the recovery period.\n",
    "\n",
    "4. Once the labels were added we normalize the data (`Standardizer` in Figure above). This process perform a Z-norm scale on the data. The Z-norm scale is calculated as: $z = \\frac{x - \\mu}{\\sigma}$, where $x$ is the value, $\\mu$ is the mean of the column and $\\sigma$ is the standard deviation of the column. An important note here is that the mean and standard deviation are calculated only for the baseline period, and then applied to the entire dataset.\n",
    "\n",
    "5. The last step is to create the sequences (`Transposer`, in Figure), that will group $n$ rows and transform it into columns (features). This process takes as input `window_size` and `overlap` parameters and creates sequences of `window_size` samples with an overlap of `overlap` samples. Thus, if we have a dataset with 100 samples, a `window_size` of 20 and an `overlap` of 0, we will have 5 sequences of 20 samples each (*i.e.* 5 rows with 20 columns). Each element of the sequence will be a column in the dataframe, numbered from 0 to 19. Thus, for example, the sequences will have columns `RHR-0`, `RHR-1`, ..., `RHR-19`, where the first row is the first 20 samples, the second row is the second 20 samples, and so on. This is useful as it is the format that the LSTM-AutoEncoder model expects as input. An important note is that we do not mix sequences from anomaly and non-anomaly periods. Thus, no label is mixed, that is, an anomaly sample only has anomaly time-steps.\n",
    "\n",
    "This will produce a dataframe (CSV file) for each user. In processed dataset, we joined all users in a single file and add a column `participant_id` to identify the user. This makes easier to work with the data in the next steps."
   ]
  },
  {
   "cell_type": "markdown",
   "metadata": {},
   "source": [
    "![labeling](anomaly_periods.png)"
   ]
  },
  {
   "cell_type": "markdown",
   "metadata": {},
   "source": [
    "We already generated several files, with different parameters and operations of the pre-processing pipeline:\n",
    "* `rhr_df`: dataframe with the resting heart rate without normalization (step 4) and transposing (step 5). The `min_minutes_rest` is 12, `smooth_window_sample` is 400, `sample_rate` is 1 hour, `baseline_days` is 21, `before_onset` is 7, and  `after_onset` is 21.\n",
    "* `rhr_df_scaled`: same as `rhr_df`, but with normalization.\n",
    "* `windowed_16_overlap_0_rate_10min_df`: same dataframe as `rhr_df` with the resting heart rate normalized (step 4) and transposed (step 5). The `window_size` is 16, `overlap` is 0, and `sample_rate` is 10 minutes.\n",
    "* `windowed_16_overlap_0_rate_10min_scaled_df`: same dataframe as `windowed_16_overlap_0_rate_10min_df`, but with normalization.\n",
    "\n",
    "**NOTE**: The files follows this naming convention: `windowed_{window_size}_overlap_{overlap}_rate_{sample_rate}_df.csv`. If sample_rate is ommited, it is, by default 1 hour.\n",
    "**NOTE**: The files may and with `fold_X`, where `X` is the fold number. This is used for cross-validation purposes."
   ]
  },
  {
   "cell_type": "markdown",
   "metadata": {},
   "source": [
    "## Training"
   ]
  },
  {
   "cell_type": "markdown",
   "metadata": {},
   "source": [
    "Let's import some libraries"
   ]
  },
  {
   "cell_type": "code",
   "execution_count": 1,
   "metadata": {},
   "outputs": [],
   "source": [
    "import pandas as pd\n",
    "from ssl_tools.data.data_modules.covid_anomaly import CovidUserAnomalyDataModule\n",
    "from ssl_tools.models.nets.lstm_ae import LSTMAutoencoder\n",
    "import lightning as L\n",
    "import torch\n",
    "import numpy as np\n",
    "from torchmetrics import MeanSquaredError\n",
    "from sklearn.metrics import f1_score, recall_score, balanced_accuracy_score, roc_auc_score\n",
    "import numpy as np\n",
    "from sklearn.metrics import confusion_matrix\n",
    "\n",
    "import matplotlib.pyplot as plt"
   ]
  },
  {
   "cell_type": "markdown",
   "metadata": {},
   "source": [
    "Load data and inspect"
   ]
  },
  {
   "cell_type": "code",
   "execution_count": 2,
   "metadata": {},
   "outputs": [
    {
     "data": {
      "text/html": [
       "<div>\n",
       "<style scoped>\n",
       "    .dataframe tbody tr th:only-of-type {\n",
       "        vertical-align: middle;\n",
       "    }\n",
       "\n",
       "    .dataframe tbody tr th {\n",
       "        vertical-align: top;\n",
       "    }\n",
       "\n",
       "    .dataframe thead th {\n",
       "        text-align: right;\n",
       "    }\n",
       "</style>\n",
       "<table border=\"1\" class=\"dataframe\">\n",
       "  <thead>\n",
       "    <tr style=\"text-align: right;\">\n",
       "      <th></th>\n",
       "      <th>datetime</th>\n",
       "      <th>RHR-0</th>\n",
       "      <th>RHR-1</th>\n",
       "      <th>RHR-2</th>\n",
       "      <th>RHR-3</th>\n",
       "      <th>RHR-4</th>\n",
       "      <th>RHR-5</th>\n",
       "      <th>RHR-6</th>\n",
       "      <th>RHR-7</th>\n",
       "      <th>RHR-8</th>\n",
       "      <th>...</th>\n",
       "      <th>RHR-10</th>\n",
       "      <th>RHR-11</th>\n",
       "      <th>RHR-12</th>\n",
       "      <th>RHR-13</th>\n",
       "      <th>RHR-14</th>\n",
       "      <th>RHR-15</th>\n",
       "      <th>anomaly</th>\n",
       "      <th>baseline</th>\n",
       "      <th>label</th>\n",
       "      <th>participant_id</th>\n",
       "    </tr>\n",
       "  </thead>\n",
       "  <tbody>\n",
       "    <tr>\n",
       "      <th>0</th>\n",
       "      <td>2027-01-14 21:00:00</td>\n",
       "      <td>1.170175</td>\n",
       "      <td>0.653752</td>\n",
       "      <td>-0.392374</td>\n",
       "      <td>-1.431553</td>\n",
       "      <td>-2.129013</td>\n",
       "      <td>-2.755962</td>\n",
       "      <td>-3.681322</td>\n",
       "      <td>-4.674443</td>\n",
       "      <td>-5.668570</td>\n",
       "      <td>...</td>\n",
       "      <td>-6.937363</td>\n",
       "      <td>-7.102118</td>\n",
       "      <td>-6.975790</td>\n",
       "      <td>-6.554774</td>\n",
       "      <td>-6.112156</td>\n",
       "      <td>-5.396099</td>\n",
       "      <td>False</td>\n",
       "      <td>True</td>\n",
       "      <td>normal</td>\n",
       "      <td>P110465</td>\n",
       "    </tr>\n",
       "    <tr>\n",
       "      <th>1</th>\n",
       "      <td>2027-01-15 05:00:00</td>\n",
       "      <td>-5.668570</td>\n",
       "      <td>-6.373289</td>\n",
       "      <td>-6.937363</td>\n",
       "      <td>-7.102118</td>\n",
       "      <td>-6.975790</td>\n",
       "      <td>-6.554774</td>\n",
       "      <td>-6.112156</td>\n",
       "      <td>-5.396099</td>\n",
       "      <td>-4.415848</td>\n",
       "      <td>...</td>\n",
       "      <td>-2.656756</td>\n",
       "      <td>-1.305630</td>\n",
       "      <td>-0.072756</td>\n",
       "      <td>1.046195</td>\n",
       "      <td>1.530467</td>\n",
       "      <td>1.829053</td>\n",
       "      <td>False</td>\n",
       "      <td>False</td>\n",
       "      <td>normal</td>\n",
       "      <td>P110465</td>\n",
       "    </tr>\n",
       "    <tr>\n",
       "      <th>2</th>\n",
       "      <td>2027-01-15 13:00:00</td>\n",
       "      <td>-4.415848</td>\n",
       "      <td>-3.467073</td>\n",
       "      <td>-2.656756</td>\n",
       "      <td>-1.305630</td>\n",
       "      <td>-0.072756</td>\n",
       "      <td>1.046195</td>\n",
       "      <td>1.530467</td>\n",
       "      <td>1.829053</td>\n",
       "      <td>1.223064</td>\n",
       "      <td>...</td>\n",
       "      <td>-0.424000</td>\n",
       "      <td>-1.145581</td>\n",
       "      <td>-1.355121</td>\n",
       "      <td>-2.321206</td>\n",
       "      <td>-3.124961</td>\n",
       "      <td>-3.928738</td>\n",
       "      <td>False</td>\n",
       "      <td>False</td>\n",
       "      <td>normal</td>\n",
       "      <td>P110465</td>\n",
       "    </tr>\n",
       "    <tr>\n",
       "      <th>3</th>\n",
       "      <td>2027-01-15 21:00:00</td>\n",
       "      <td>1.223064</td>\n",
       "      <td>0.472444</td>\n",
       "      <td>-0.424000</td>\n",
       "      <td>-1.145581</td>\n",
       "      <td>-1.355121</td>\n",
       "      <td>-2.321206</td>\n",
       "      <td>-3.124961</td>\n",
       "      <td>-3.928738</td>\n",
       "      <td>-4.802627</td>\n",
       "      <td>...</td>\n",
       "      <td>-6.067744</td>\n",
       "      <td>-5.460156</td>\n",
       "      <td>-4.671143</td>\n",
       "      <td>-3.408943</td>\n",
       "      <td>-2.237883</td>\n",
       "      <td>-1.187843</td>\n",
       "      <td>False</td>\n",
       "      <td>False</td>\n",
       "      <td>normal</td>\n",
       "      <td>P110465</td>\n",
       "    </tr>\n",
       "    <tr>\n",
       "      <th>4</th>\n",
       "      <td>2027-01-16 05:00:00</td>\n",
       "      <td>-4.802627</td>\n",
       "      <td>-5.831013</td>\n",
       "      <td>-6.067744</td>\n",
       "      <td>-5.460156</td>\n",
       "      <td>-4.671143</td>\n",
       "      <td>-3.408943</td>\n",
       "      <td>-2.237883</td>\n",
       "      <td>-1.187843</td>\n",
       "      <td>-0.062360</td>\n",
       "      <td>...</td>\n",
       "      <td>2.266944</td>\n",
       "      <td>3.794465</td>\n",
       "      <td>4.625745</td>\n",
       "      <td>4.827756</td>\n",
       "      <td>4.720000</td>\n",
       "      <td>4.677464</td>\n",
       "      <td>False</td>\n",
       "      <td>False</td>\n",
       "      <td>normal</td>\n",
       "      <td>P110465</td>\n",
       "    </tr>\n",
       "    <tr>\n",
       "      <th>...</th>\n",
       "      <td>...</td>\n",
       "      <td>...</td>\n",
       "      <td>...</td>\n",
       "      <td>...</td>\n",
       "      <td>...</td>\n",
       "      <td>...</td>\n",
       "      <td>...</td>\n",
       "      <td>...</td>\n",
       "      <td>...</td>\n",
       "      <td>...</td>\n",
       "      <td>...</td>\n",
       "      <td>...</td>\n",
       "      <td>...</td>\n",
       "      <td>...</td>\n",
       "      <td>...</td>\n",
       "      <td>...</td>\n",
       "      <td>...</td>\n",
       "      <td>...</td>\n",
       "      <td>...</td>\n",
       "      <td>...</td>\n",
       "      <td>...</td>\n",
       "    </tr>\n",
       "    <tr>\n",
       "      <th>31732</th>\n",
       "      <td>2024-12-13 00:00:00</td>\n",
       "      <td>-0.180702</td>\n",
       "      <td>-0.499793</td>\n",
       "      <td>-0.749829</td>\n",
       "      <td>-0.868485</td>\n",
       "      <td>-0.966754</td>\n",
       "      <td>-1.004670</td>\n",
       "      <td>-0.888210</td>\n",
       "      <td>-0.580762</td>\n",
       "      <td>-0.467943</td>\n",
       "      <td>...</td>\n",
       "      <td>0.092000</td>\n",
       "      <td>0.347840</td>\n",
       "      <td>0.636395</td>\n",
       "      <td>0.958195</td>\n",
       "      <td>1.170514</td>\n",
       "      <td>1.301841</td>\n",
       "      <td>False</td>\n",
       "      <td>False</td>\n",
       "      <td>recovered</td>\n",
       "      <td>P992022</td>\n",
       "    </tr>\n",
       "    <tr>\n",
       "      <th>31733</th>\n",
       "      <td>2024-12-13 08:00:00</td>\n",
       "      <td>-0.467943</td>\n",
       "      <td>-0.162740</td>\n",
       "      <td>0.092000</td>\n",
       "      <td>0.347840</td>\n",
       "      <td>0.636395</td>\n",
       "      <td>0.958195</td>\n",
       "      <td>1.170514</td>\n",
       "      <td>1.301841</td>\n",
       "      <td>1.477526</td>\n",
       "      <td>...</td>\n",
       "      <td>1.660344</td>\n",
       "      <td>1.656600</td>\n",
       "      <td>1.685652</td>\n",
       "      <td>1.747252</td>\n",
       "      <td>1.767329</td>\n",
       "      <td>1.793616</td>\n",
       "      <td>False</td>\n",
       "      <td>False</td>\n",
       "      <td>recovered</td>\n",
       "      <td>P992022</td>\n",
       "    </tr>\n",
       "    <tr>\n",
       "      <th>31734</th>\n",
       "      <td>2024-12-13 16:00:00</td>\n",
       "      <td>1.477526</td>\n",
       "      <td>1.657321</td>\n",
       "      <td>1.660344</td>\n",
       "      <td>1.656600</td>\n",
       "      <td>1.685652</td>\n",
       "      <td>1.747252</td>\n",
       "      <td>1.767329</td>\n",
       "      <td>1.793616</td>\n",
       "      <td>1.728615</td>\n",
       "      <td>...</td>\n",
       "      <td>1.509833</td>\n",
       "      <td>1.380749</td>\n",
       "      <td>1.263744</td>\n",
       "      <td>1.139997</td>\n",
       "      <td>1.024205</td>\n",
       "      <td>0.946663</td>\n",
       "      <td>False</td>\n",
       "      <td>False</td>\n",
       "      <td>recovered</td>\n",
       "      <td>P992022</td>\n",
       "    </tr>\n",
       "    <tr>\n",
       "      <th>31735</th>\n",
       "      <td>2024-12-14 00:00:00</td>\n",
       "      <td>1.728615</td>\n",
       "      <td>1.616265</td>\n",
       "      <td>1.509833</td>\n",
       "      <td>1.380749</td>\n",
       "      <td>1.263744</td>\n",
       "      <td>1.139997</td>\n",
       "      <td>1.024205</td>\n",
       "      <td>0.946663</td>\n",
       "      <td>1.136868</td>\n",
       "      <td>...</td>\n",
       "      <td>1.642153</td>\n",
       "      <td>1.909381</td>\n",
       "      <td>2.114439</td>\n",
       "      <td>2.282238</td>\n",
       "      <td>2.453691</td>\n",
       "      <td>2.587843</td>\n",
       "      <td>False</td>\n",
       "      <td>False</td>\n",
       "      <td>recovered</td>\n",
       "      <td>P992022</td>\n",
       "    </tr>\n",
       "    <tr>\n",
       "      <th>31736</th>\n",
       "      <td>2024-12-14 08:00:00</td>\n",
       "      <td>1.136868</td>\n",
       "      <td>1.380418</td>\n",
       "      <td>1.642153</td>\n",
       "      <td>1.909381</td>\n",
       "      <td>2.114439</td>\n",
       "      <td>2.282238</td>\n",
       "      <td>2.453691</td>\n",
       "      <td>2.587843</td>\n",
       "      <td>2.437232</td>\n",
       "      <td>...</td>\n",
       "      <td>2.359840</td>\n",
       "      <td>2.173400</td>\n",
       "      <td>2.098140</td>\n",
       "      <td>1.967669</td>\n",
       "      <td>1.784512</td>\n",
       "      <td>1.561848</td>\n",
       "      <td>False</td>\n",
       "      <td>False</td>\n",
       "      <td>recovered</td>\n",
       "      <td>P992022</td>\n",
       "    </tr>\n",
       "  </tbody>\n",
       "</table>\n",
       "<p>31737 rows × 21 columns</p>\n",
       "</div>"
      ],
      "text/plain": [
       "                  datetime     RHR-0     RHR-1     RHR-2     RHR-3     RHR-4  \\\n",
       "0      2027-01-14 21:00:00  1.170175  0.653752 -0.392374 -1.431553 -2.129013   \n",
       "1      2027-01-15 05:00:00 -5.668570 -6.373289 -6.937363 -7.102118 -6.975790   \n",
       "2      2027-01-15 13:00:00 -4.415848 -3.467073 -2.656756 -1.305630 -0.072756   \n",
       "3      2027-01-15 21:00:00  1.223064  0.472444 -0.424000 -1.145581 -1.355121   \n",
       "4      2027-01-16 05:00:00 -4.802627 -5.831013 -6.067744 -5.460156 -4.671143   \n",
       "...                    ...       ...       ...       ...       ...       ...   \n",
       "31732  2024-12-13 00:00:00 -0.180702 -0.499793 -0.749829 -0.868485 -0.966754   \n",
       "31733  2024-12-13 08:00:00 -0.467943 -0.162740  0.092000  0.347840  0.636395   \n",
       "31734  2024-12-13 16:00:00  1.477526  1.657321  1.660344  1.656600  1.685652   \n",
       "31735  2024-12-14 00:00:00  1.728615  1.616265  1.509833  1.380749  1.263744   \n",
       "31736  2024-12-14 08:00:00  1.136868  1.380418  1.642153  1.909381  2.114439   \n",
       "\n",
       "          RHR-5     RHR-6     RHR-7     RHR-8  ...    RHR-10    RHR-11  \\\n",
       "0     -2.755962 -3.681322 -4.674443 -5.668570  ... -6.937363 -7.102118   \n",
       "1     -6.554774 -6.112156 -5.396099 -4.415848  ... -2.656756 -1.305630   \n",
       "2      1.046195  1.530467  1.829053  1.223064  ... -0.424000 -1.145581   \n",
       "3     -2.321206 -3.124961 -3.928738 -4.802627  ... -6.067744 -5.460156   \n",
       "4     -3.408943 -2.237883 -1.187843 -0.062360  ...  2.266944  3.794465   \n",
       "...         ...       ...       ...       ...  ...       ...       ...   \n",
       "31732 -1.004670 -0.888210 -0.580762 -0.467943  ...  0.092000  0.347840   \n",
       "31733  0.958195  1.170514  1.301841  1.477526  ...  1.660344  1.656600   \n",
       "31734  1.747252  1.767329  1.793616  1.728615  ...  1.509833  1.380749   \n",
       "31735  1.139997  1.024205  0.946663  1.136868  ...  1.642153  1.909381   \n",
       "31736  2.282238  2.453691  2.587843  2.437232  ...  2.359840  2.173400   \n",
       "\n",
       "         RHR-12    RHR-13    RHR-14    RHR-15  anomaly  baseline      label  \\\n",
       "0     -6.975790 -6.554774 -6.112156 -5.396099    False      True     normal   \n",
       "1     -0.072756  1.046195  1.530467  1.829053    False     False     normal   \n",
       "2     -1.355121 -2.321206 -3.124961 -3.928738    False     False     normal   \n",
       "3     -4.671143 -3.408943 -2.237883 -1.187843    False     False     normal   \n",
       "4      4.625745  4.827756  4.720000  4.677464    False     False     normal   \n",
       "...         ...       ...       ...       ...      ...       ...        ...   \n",
       "31732  0.636395  0.958195  1.170514  1.301841    False     False  recovered   \n",
       "31733  1.685652  1.747252  1.767329  1.793616    False     False  recovered   \n",
       "31734  1.263744  1.139997  1.024205  0.946663    False     False  recovered   \n",
       "31735  2.114439  2.282238  2.453691  2.587843    False     False  recovered   \n",
       "31736  2.098140  1.967669  1.784512  1.561848    False     False  recovered   \n",
       "\n",
       "      participant_id  \n",
       "0            P110465  \n",
       "1            P110465  \n",
       "2            P110465  \n",
       "3            P110465  \n",
       "4            P110465  \n",
       "...              ...  \n",
       "31732        P992022  \n",
       "31733        P992022  \n",
       "31734        P992022  \n",
       "31735        P992022  \n",
       "31736        P992022  \n",
       "\n",
       "[31737 rows x 21 columns]"
      ]
     },
     "execution_count": 2,
     "metadata": {},
     "output_type": "execute_result"
    }
   ],
   "source": [
    "# Read CSV data\n",
    "data_path = \"/workspaces/AIMH-Dev-Container/shared_data/stanford_phase2_processed_data/windowed_16_overlap_8_df_scaled.csv\"\n",
    "df = pd.read_csv(data_path)\n",
    "df"
   ]
  },
  {
   "cell_type": "code",
   "execution_count": 3,
   "metadata": {},
   "outputs": [
    {
     "data": {
      "text/plain": [
       "array(['P110465', 'P111019', 'P148618', 'P182427', 'P203215', 'P206998',\n",
       "       'P209134', 'P214671', 'P219295', 'P219455', 'P230742', 'P249349',\n",
       "       'P256033', 'P259158', 'P261190', 'P262255', 'P271946', 'P277912',\n",
       "       'P279697', 'P292181', 'P305571', 'P308755', 'P310300', 'P319777',\n",
       "       'P320539', 'P323003', 'P328945', 'P330232', 'P333074', 'P355472',\n",
       "       'P389953', 'P395188', 'P401732', 'P426746', 'P430757', 'P442730',\n",
       "       'P469946', 'P476443', 'P476514', 'P477816', 'P500432', 'P508925',\n",
       "       'P511540', 'P516467', 'P530788', 'P533807', 'P542912', 'P543995',\n",
       "       'P549078', 'P584112', 'P608324', 'P612886', 'P625831', 'P631814',\n",
       "       'P635568', 'P662021', 'P662924', 'P682517', 'P693795', 'P706971',\n",
       "       'P708653', 'P723676', 'P723961', 'P726139', 'P741171', 'P749288',\n",
       "       'P754260', 'P759795', 'P760409', 'P763925', 'P819867', 'P839431',\n",
       "       'P851598', 'P885171', 'P885343', 'P954010', 'P992022'],\n",
       "      dtype=object)"
      ]
     },
     "execution_count": 3,
     "metadata": {},
     "output_type": "execute_result"
    }
   ],
   "source": [
    "# Print all participants\n",
    "df.participant_id.unique()"
   ]
  },
  {
   "cell_type": "markdown",
   "metadata": {},
   "source": [
    "Creating a [LightningDataModule](https://lightning.ai/docs/pytorch/stable/data/datamodule.html).\n",
    "* The first parameter is the path to the CSV file.\n",
    "* `participants`: is a list of participants to include in dataset. If nothing is passed, all participants in CSV are included.\n",
    "* `batch_size`: is the batch size to use in the dataloader.\n",
    "* `num_workers`: is the number of workers to use in the dataloader.\n",
    "* `reshape`: is the shape of the input data. For LSTM-AutoEncoder, it is `(sequence_length, num_features)`, or, in our case `(16, 1)`\n",
    "\n",
    "**NOTE**: The training data is only data where baseline is True. The test data will be only data where baseline is False."
   ]
  },
  {
   "cell_type": "code",
   "execution_count": 4,
   "metadata": {},
   "outputs": [
    {
     "data": {
      "text/plain": [
       "CovidUserAnomalyDataModule (Data=/workspaces/AIMH-Dev-Container/shared_data/stanford_phase2_processed_data/windowed_16_overlap_8_df_scaled.csv, 1 participant selected)"
      ]
     },
     "execution_count": 4,
     "metadata": {},
     "output_type": "execute_result"
    }
   ],
   "source": [
    "dm = CovidUserAnomalyDataModule(\n",
    "    data_path,\n",
    "    participants=[\"P262255\"],\n",
    "    batch_size=32,\n",
    "    num_workers=0,\n",
    "    reshape=(16, 1),\n",
    ")\n",
    "dm"
   ]
  },
  {
   "cell_type": "markdown",
   "metadata": {},
   "source": [
    "Let's create the lightning model"
   ]
  },
  {
   "cell_type": "code",
   "execution_count": 5,
   "metadata": {},
   "outputs": [
    {
     "data": {
      "text/plain": [
       "LSTMAutoencoder(\n",
       "  (backbone): _LSTMAutoEncoder(\n",
       "    (lstm1): LSTM(1, 128, batch_first=True)\n",
       "    (lstm2): LSTM(128, 64, batch_first=True)\n",
       "    (repeat_vector): Linear(in_features=64, out_features=1024, bias=True)\n",
       "    (lstm3): LSTM(64, 64, batch_first=True)\n",
       "    (lstm4): LSTM(64, 128, batch_first=True)\n",
       "    (time_distributed): Linear(in_features=128, out_features=1, bias=True)\n",
       "  )\n",
       "  (loss_fn): MSELoss()\n",
       ")"
      ]
     },
     "execution_count": 5,
     "metadata": {},
     "output_type": "execute_result"
    }
   ],
   "source": [
    "model = LSTMAutoencoder(input_shape=(16, 1))\n",
    "model"
   ]
  },
  {
   "cell_type": "markdown",
   "metadata": {},
   "source": [
    "Creting Trainer"
   ]
  },
  {
   "cell_type": "code",
   "execution_count": 6,
   "metadata": {},
   "outputs": [
    {
     "name": "stderr",
     "output_type": "stream",
     "text": [
      "GPU available: True (cuda), used: True\n",
      "TPU available: False, using: 0 TPU cores\n",
      "HPU available: False, using: 0 HPUs\n"
     ]
    }
   ],
   "source": [
    "# We disable the checkpointing for this example\n",
    "trainer = L.Trainer(max_epochs=100, devices=1, accelerator=\"gpu\", enable_checkpointing=False)"
   ]
  },
  {
   "cell_type": "markdown",
   "metadata": {},
   "source": [
    "Fit the model using training data from the datamodule"
   ]
  },
  {
   "cell_type": "code",
   "execution_count": 7,
   "metadata": {},
   "outputs": [
    {
     "name": "stderr",
     "output_type": "stream",
     "text": [
      "LOCAL_RANK: 0 - CUDA_VISIBLE_DEVICES: [0]\n",
      "\n",
      "  | Name     | Type             | Params | Mode \n",
      "------------------------------------------------------\n",
      "0 | backbone | _LSTMAutoEncoder | 316 K  | train\n",
      "1 | loss_fn  | MSELoss          | 0      | train\n",
      "------------------------------------------------------\n",
      "316 K     Trainable params\n",
      "0         Non-trainable params\n",
      "316 K     Total params\n",
      "1.264     Total estimated model params size (MB)\n"
     ]
    },
    {
     "data": {
      "application/vnd.jupyter.widget-view+json": {
       "model_id": "6ce84b1793e6425195e6a82c8ad381a5",
       "version_major": 2,
       "version_minor": 0
      },
      "text/plain": [
       "Sanity Checking: |          | 0/? [00:00<?, ?it/s]"
      ]
     },
     "metadata": {},
     "output_type": "display_data"
    },
    {
     "name": "stderr",
     "output_type": "stream",
     "text": [
      "/usr/local/lib/python3.10/dist-packages/lightning/pytorch/trainer/connectors/data_connector.py:424: The 'val_dataloader' does not have many workers which may be a bottleneck. Consider increasing the value of the `num_workers` argument` to `num_workers=31` in the `DataLoader` to improve performance.\n",
      "/usr/local/lib/python3.10/dist-packages/lightning/pytorch/trainer/connectors/data_connector.py:424: The 'train_dataloader' does not have many workers which may be a bottleneck. Consider increasing the value of the `num_workers` argument` to `num_workers=31` in the `DataLoader` to improve performance.\n",
      "/usr/local/lib/python3.10/dist-packages/lightning/pytorch/loops/fit_loop.py:298: The number of training batches (1) is smaller than the logging interval Trainer(log_every_n_steps=50). Set a lower value for log_every_n_steps if you want to see logs for the training epoch.\n"
     ]
    },
    {
     "data": {
      "application/vnd.jupyter.widget-view+json": {
       "model_id": "4aa1bf27099245abb7a2befd121e6184",
       "version_major": 2,
       "version_minor": 0
      },
      "text/plain": [
       "Training: |          | 0/? [00:00<?, ?it/s]"
      ]
     },
     "metadata": {},
     "output_type": "display_data"
    },
    {
     "data": {
      "application/vnd.jupyter.widget-view+json": {
       "model_id": "0222dbcfbcc74084a19fda4fe9f73269",
       "version_major": 2,
       "version_minor": 0
      },
      "text/plain": [
       "Validation: |          | 0/? [00:00<?, ?it/s]"
      ]
     },
     "metadata": {},
     "output_type": "display_data"
    },
    {
     "data": {
      "application/vnd.jupyter.widget-view+json": {
       "model_id": "6d6d73f2708644138e0637e22c611b8a",
       "version_major": 2,
       "version_minor": 0
      },
      "text/plain": [
       "Validation: |          | 0/? [00:00<?, ?it/s]"
      ]
     },
     "metadata": {},
     "output_type": "display_data"
    },
    {
     "data": {
      "application/vnd.jupyter.widget-view+json": {
       "model_id": "19cd7c606a3e4fd2bb5e90238076e4bb",
       "version_major": 2,
       "version_minor": 0
      },
      "text/plain": [
       "Validation: |          | 0/? [00:00<?, ?it/s]"
      ]
     },
     "metadata": {},
     "output_type": "display_data"
    },
    {
     "data": {
      "application/vnd.jupyter.widget-view+json": {
       "model_id": "7f5a7dfbc1f14776a639a9a20ff79869",
       "version_major": 2,
       "version_minor": 0
      },
      "text/plain": [
       "Validation: |          | 0/? [00:00<?, ?it/s]"
      ]
     },
     "metadata": {},
     "output_type": "display_data"
    },
    {
     "data": {
      "application/vnd.jupyter.widget-view+json": {
       "model_id": "5d328fa9b5a24f0bae4a94c44efb5b9f",
       "version_major": 2,
       "version_minor": 0
      },
      "text/plain": [
       "Validation: |          | 0/? [00:00<?, ?it/s]"
      ]
     },
     "metadata": {},
     "output_type": "display_data"
    },
    {
     "data": {
      "application/vnd.jupyter.widget-view+json": {
       "model_id": "c62bbac3a95a4f03a4d8723c7ac04258",
       "version_major": 2,
       "version_minor": 0
      },
      "text/plain": [
       "Validation: |          | 0/? [00:00<?, ?it/s]"
      ]
     },
     "metadata": {},
     "output_type": "display_data"
    },
    {
     "data": {
      "application/vnd.jupyter.widget-view+json": {
       "model_id": "d9408d0f1f5942dab280e4ee4be4e2fb",
       "version_major": 2,
       "version_minor": 0
      },
      "text/plain": [
       "Validation: |          | 0/? [00:00<?, ?it/s]"
      ]
     },
     "metadata": {},
     "output_type": "display_data"
    },
    {
     "data": {
      "application/vnd.jupyter.widget-view+json": {
       "model_id": "c020ba1568b14c1bae7af0c84c89a64e",
       "version_major": 2,
       "version_minor": 0
      },
      "text/plain": [
       "Validation: |          | 0/? [00:00<?, ?it/s]"
      ]
     },
     "metadata": {},
     "output_type": "display_data"
    },
    {
     "data": {
      "application/vnd.jupyter.widget-view+json": {
       "model_id": "288414edcb90427c8576a81167cac43c",
       "version_major": 2,
       "version_minor": 0
      },
      "text/plain": [
       "Validation: |          | 0/? [00:00<?, ?it/s]"
      ]
     },
     "metadata": {},
     "output_type": "display_data"
    },
    {
     "data": {
      "application/vnd.jupyter.widget-view+json": {
       "model_id": "4c382cd09ce541cabd38b3811d597896",
       "version_major": 2,
       "version_minor": 0
      },
      "text/plain": [
       "Validation: |          | 0/? [00:00<?, ?it/s]"
      ]
     },
     "metadata": {},
     "output_type": "display_data"
    },
    {
     "data": {
      "application/vnd.jupyter.widget-view+json": {
       "model_id": "3c909f28efd54b258196770d679b5567",
       "version_major": 2,
       "version_minor": 0
      },
      "text/plain": [
       "Validation: |          | 0/? [00:00<?, ?it/s]"
      ]
     },
     "metadata": {},
     "output_type": "display_data"
    },
    {
     "data": {
      "application/vnd.jupyter.widget-view+json": {
       "model_id": "f88e79db8d1d4f008f196e8e6e402eb2",
       "version_major": 2,
       "version_minor": 0
      },
      "text/plain": [
       "Validation: |          | 0/? [00:00<?, ?it/s]"
      ]
     },
     "metadata": {},
     "output_type": "display_data"
    },
    {
     "data": {
      "application/vnd.jupyter.widget-view+json": {
       "model_id": "db8f239e7f77411392096323f99e7a78",
       "version_major": 2,
       "version_minor": 0
      },
      "text/plain": [
       "Validation: |          | 0/? [00:00<?, ?it/s]"
      ]
     },
     "metadata": {},
     "output_type": "display_data"
    },
    {
     "data": {
      "application/vnd.jupyter.widget-view+json": {
       "model_id": "69c52b52ff0048a09c041b4ed7a2b756",
       "version_major": 2,
       "version_minor": 0
      },
      "text/plain": [
       "Validation: |          | 0/? [00:00<?, ?it/s]"
      ]
     },
     "metadata": {},
     "output_type": "display_data"
    },
    {
     "data": {
      "application/vnd.jupyter.widget-view+json": {
       "model_id": "0f0a82dc75dd4b6ab56197b996b94bb6",
       "version_major": 2,
       "version_minor": 0
      },
      "text/plain": [
       "Validation: |          | 0/? [00:00<?, ?it/s]"
      ]
     },
     "metadata": {},
     "output_type": "display_data"
    },
    {
     "data": {
      "application/vnd.jupyter.widget-view+json": {
       "model_id": "d20362e400c443e5930f3b83ef334df7",
       "version_major": 2,
       "version_minor": 0
      },
      "text/plain": [
       "Validation: |          | 0/? [00:00<?, ?it/s]"
      ]
     },
     "metadata": {},
     "output_type": "display_data"
    },
    {
     "data": {
      "application/vnd.jupyter.widget-view+json": {
       "model_id": "47149d6c00bd4ac0a412fb6fc05cae44",
       "version_major": 2,
       "version_minor": 0
      },
      "text/plain": [
       "Validation: |          | 0/? [00:00<?, ?it/s]"
      ]
     },
     "metadata": {},
     "output_type": "display_data"
    },
    {
     "data": {
      "application/vnd.jupyter.widget-view+json": {
       "model_id": "cbb614c89fd14e7cafa8affbda59c4b4",
       "version_major": 2,
       "version_minor": 0
      },
      "text/plain": [
       "Validation: |          | 0/? [00:00<?, ?it/s]"
      ]
     },
     "metadata": {},
     "output_type": "display_data"
    },
    {
     "data": {
      "application/vnd.jupyter.widget-view+json": {
       "model_id": "8a19f753dd8a4540b2df853234431ad5",
       "version_major": 2,
       "version_minor": 0
      },
      "text/plain": [
       "Validation: |          | 0/? [00:00<?, ?it/s]"
      ]
     },
     "metadata": {},
     "output_type": "display_data"
    },
    {
     "data": {
      "application/vnd.jupyter.widget-view+json": {
       "model_id": "cb96063cd076403fa35866ce23517826",
       "version_major": 2,
       "version_minor": 0
      },
      "text/plain": [
       "Validation: |          | 0/? [00:00<?, ?it/s]"
      ]
     },
     "metadata": {},
     "output_type": "display_data"
    },
    {
     "data": {
      "application/vnd.jupyter.widget-view+json": {
       "model_id": "5cfd1313104c4513b10b8a64f0c46637",
       "version_major": 2,
       "version_minor": 0
      },
      "text/plain": [
       "Validation: |          | 0/? [00:00<?, ?it/s]"
      ]
     },
     "metadata": {},
     "output_type": "display_data"
    },
    {
     "data": {
      "application/vnd.jupyter.widget-view+json": {
       "model_id": "e375730159f24ca2b72b8b7d0132d38f",
       "version_major": 2,
       "version_minor": 0
      },
      "text/plain": [
       "Validation: |          | 0/? [00:00<?, ?it/s]"
      ]
     },
     "metadata": {},
     "output_type": "display_data"
    },
    {
     "data": {
      "application/vnd.jupyter.widget-view+json": {
       "model_id": "3a72d4c0c4284118bf25752111e6d1f6",
       "version_major": 2,
       "version_minor": 0
      },
      "text/plain": [
       "Validation: |          | 0/? [00:00<?, ?it/s]"
      ]
     },
     "metadata": {},
     "output_type": "display_data"
    },
    {
     "data": {
      "application/vnd.jupyter.widget-view+json": {
       "model_id": "b11e9b94a260422aaf1b4b3942cb781c",
       "version_major": 2,
       "version_minor": 0
      },
      "text/plain": [
       "Validation: |          | 0/? [00:00<?, ?it/s]"
      ]
     },
     "metadata": {},
     "output_type": "display_data"
    },
    {
     "data": {
      "application/vnd.jupyter.widget-view+json": {
       "model_id": "3e20b75518e34b14a5f483b5273e1007",
       "version_major": 2,
       "version_minor": 0
      },
      "text/plain": [
       "Validation: |          | 0/? [00:00<?, ?it/s]"
      ]
     },
     "metadata": {},
     "output_type": "display_data"
    },
    {
     "data": {
      "application/vnd.jupyter.widget-view+json": {
       "model_id": "21b883f7f49f40f1be9e1716c15b9e88",
       "version_major": 2,
       "version_minor": 0
      },
      "text/plain": [
       "Validation: |          | 0/? [00:00<?, ?it/s]"
      ]
     },
     "metadata": {},
     "output_type": "display_data"
    },
    {
     "data": {
      "application/vnd.jupyter.widget-view+json": {
       "model_id": "d6e57227d0fd413481c686a5dd030540",
       "version_major": 2,
       "version_minor": 0
      },
      "text/plain": [
       "Validation: |          | 0/? [00:00<?, ?it/s]"
      ]
     },
     "metadata": {},
     "output_type": "display_data"
    },
    {
     "data": {
      "application/vnd.jupyter.widget-view+json": {
       "model_id": "504d68b3b15544189eb5f958582da859",
       "version_major": 2,
       "version_minor": 0
      },
      "text/plain": [
       "Validation: |          | 0/? [00:00<?, ?it/s]"
      ]
     },
     "metadata": {},
     "output_type": "display_data"
    },
    {
     "data": {
      "application/vnd.jupyter.widget-view+json": {
       "model_id": "001ccfb3fd2a48bbb2b71340b2323932",
       "version_major": 2,
       "version_minor": 0
      },
      "text/plain": [
       "Validation: |          | 0/? [00:00<?, ?it/s]"
      ]
     },
     "metadata": {},
     "output_type": "display_data"
    },
    {
     "data": {
      "application/vnd.jupyter.widget-view+json": {
       "model_id": "a19ead1bd24141fb9659f090274c28c5",
       "version_major": 2,
       "version_minor": 0
      },
      "text/plain": [
       "Validation: |          | 0/? [00:00<?, ?it/s]"
      ]
     },
     "metadata": {},
     "output_type": "display_data"
    },
    {
     "data": {
      "application/vnd.jupyter.widget-view+json": {
       "model_id": "08d9c150a7f5435081c4f91103e5a096",
       "version_major": 2,
       "version_minor": 0
      },
      "text/plain": [
       "Validation: |          | 0/? [00:00<?, ?it/s]"
      ]
     },
     "metadata": {},
     "output_type": "display_data"
    },
    {
     "data": {
      "application/vnd.jupyter.widget-view+json": {
       "model_id": "7d03665d91e04926acd7e1a93c27d6ee",
       "version_major": 2,
       "version_minor": 0
      },
      "text/plain": [
       "Validation: |          | 0/? [00:00<?, ?it/s]"
      ]
     },
     "metadata": {},
     "output_type": "display_data"
    },
    {
     "data": {
      "application/vnd.jupyter.widget-view+json": {
       "model_id": "450307068b5243ea854f09c26944a113",
       "version_major": 2,
       "version_minor": 0
      },
      "text/plain": [
       "Validation: |          | 0/? [00:00<?, ?it/s]"
      ]
     },
     "metadata": {},
     "output_type": "display_data"
    },
    {
     "data": {
      "application/vnd.jupyter.widget-view+json": {
       "model_id": "2bd6f84f01e64caf8770cd5823609822",
       "version_major": 2,
       "version_minor": 0
      },
      "text/plain": [
       "Validation: |          | 0/? [00:00<?, ?it/s]"
      ]
     },
     "metadata": {},
     "output_type": "display_data"
    },
    {
     "data": {
      "application/vnd.jupyter.widget-view+json": {
       "model_id": "3a0c2c5ed03c44f4ab1473678f1511a7",
       "version_major": 2,
       "version_minor": 0
      },
      "text/plain": [
       "Validation: |          | 0/? [00:00<?, ?it/s]"
      ]
     },
     "metadata": {},
     "output_type": "display_data"
    },
    {
     "data": {
      "application/vnd.jupyter.widget-view+json": {
       "model_id": "ed1d362e46b74ad6af35dfcd59620003",
       "version_major": 2,
       "version_minor": 0
      },
      "text/plain": [
       "Validation: |          | 0/? [00:00<?, ?it/s]"
      ]
     },
     "metadata": {},
     "output_type": "display_data"
    },
    {
     "data": {
      "application/vnd.jupyter.widget-view+json": {
       "model_id": "af7373d8fb3a4800b3c520f0a204e5d8",
       "version_major": 2,
       "version_minor": 0
      },
      "text/plain": [
       "Validation: |          | 0/? [00:00<?, ?it/s]"
      ]
     },
     "metadata": {},
     "output_type": "display_data"
    },
    {
     "data": {
      "application/vnd.jupyter.widget-view+json": {
       "model_id": "33314c408ed841b1a819f0aa55689887",
       "version_major": 2,
       "version_minor": 0
      },
      "text/plain": [
       "Validation: |          | 0/? [00:00<?, ?it/s]"
      ]
     },
     "metadata": {},
     "output_type": "display_data"
    },
    {
     "data": {
      "application/vnd.jupyter.widget-view+json": {
       "model_id": "966c6f96b54642489fd5a85ca43cf6aa",
       "version_major": 2,
       "version_minor": 0
      },
      "text/plain": [
       "Validation: |          | 0/? [00:00<?, ?it/s]"
      ]
     },
     "metadata": {},
     "output_type": "display_data"
    },
    {
     "data": {
      "application/vnd.jupyter.widget-view+json": {
       "model_id": "7b6bd3e66ea244d1aa31927c5129d805",
       "version_major": 2,
       "version_minor": 0
      },
      "text/plain": [
       "Validation: |          | 0/? [00:00<?, ?it/s]"
      ]
     },
     "metadata": {},
     "output_type": "display_data"
    },
    {
     "data": {
      "application/vnd.jupyter.widget-view+json": {
       "model_id": "d66e4cb3599746debcbf040247650ba9",
       "version_major": 2,
       "version_minor": 0
      },
      "text/plain": [
       "Validation: |          | 0/? [00:00<?, ?it/s]"
      ]
     },
     "metadata": {},
     "output_type": "display_data"
    },
    {
     "data": {
      "application/vnd.jupyter.widget-view+json": {
       "model_id": "0c87c7a96c1549faaccedfbaa25c2edc",
       "version_major": 2,
       "version_minor": 0
      },
      "text/plain": [
       "Validation: |          | 0/? [00:00<?, ?it/s]"
      ]
     },
     "metadata": {},
     "output_type": "display_data"
    },
    {
     "data": {
      "application/vnd.jupyter.widget-view+json": {
       "model_id": "f69f3af146a24414894939cbd7177d2b",
       "version_major": 2,
       "version_minor": 0
      },
      "text/plain": [
       "Validation: |          | 0/? [00:00<?, ?it/s]"
      ]
     },
     "metadata": {},
     "output_type": "display_data"
    },
    {
     "data": {
      "application/vnd.jupyter.widget-view+json": {
       "model_id": "75267014346c4f93897f4b5945258145",
       "version_major": 2,
       "version_minor": 0
      },
      "text/plain": [
       "Validation: |          | 0/? [00:00<?, ?it/s]"
      ]
     },
     "metadata": {},
     "output_type": "display_data"
    },
    {
     "data": {
      "application/vnd.jupyter.widget-view+json": {
       "model_id": "1df9ef0fc5e04635b30a5eda1a8e36eb",
       "version_major": 2,
       "version_minor": 0
      },
      "text/plain": [
       "Validation: |          | 0/? [00:00<?, ?it/s]"
      ]
     },
     "metadata": {},
     "output_type": "display_data"
    },
    {
     "data": {
      "application/vnd.jupyter.widget-view+json": {
       "model_id": "f019f6ecc9834457af95dd6ca7b6d728",
       "version_major": 2,
       "version_minor": 0
      },
      "text/plain": [
       "Validation: |          | 0/? [00:00<?, ?it/s]"
      ]
     },
     "metadata": {},
     "output_type": "display_data"
    },
    {
     "data": {
      "application/vnd.jupyter.widget-view+json": {
       "model_id": "40604b6ec4d74bdca52635f316fc0733",
       "version_major": 2,
       "version_minor": 0
      },
      "text/plain": [
       "Validation: |          | 0/? [00:00<?, ?it/s]"
      ]
     },
     "metadata": {},
     "output_type": "display_data"
    },
    {
     "data": {
      "application/vnd.jupyter.widget-view+json": {
       "model_id": "d1b68eb7ca704075b7c27408dbbe0410",
       "version_major": 2,
       "version_minor": 0
      },
      "text/plain": [
       "Validation: |          | 0/? [00:00<?, ?it/s]"
      ]
     },
     "metadata": {},
     "output_type": "display_data"
    },
    {
     "data": {
      "application/vnd.jupyter.widget-view+json": {
       "model_id": "ef1f3ba057434a66a7aec6e9c2281c10",
       "version_major": 2,
       "version_minor": 0
      },
      "text/plain": [
       "Validation: |          | 0/? [00:00<?, ?it/s]"
      ]
     },
     "metadata": {},
     "output_type": "display_data"
    },
    {
     "data": {
      "application/vnd.jupyter.widget-view+json": {
       "model_id": "8b2c483457574a18b0d51dcc4fd9e57a",
       "version_major": 2,
       "version_minor": 0
      },
      "text/plain": [
       "Validation: |          | 0/? [00:00<?, ?it/s]"
      ]
     },
     "metadata": {},
     "output_type": "display_data"
    },
    {
     "data": {
      "application/vnd.jupyter.widget-view+json": {
       "model_id": "86445a55a0024754a550d347e6ec214d",
       "version_major": 2,
       "version_minor": 0
      },
      "text/plain": [
       "Validation: |          | 0/? [00:00<?, ?it/s]"
      ]
     },
     "metadata": {},
     "output_type": "display_data"
    },
    {
     "data": {
      "application/vnd.jupyter.widget-view+json": {
       "model_id": "623f00f7a9c84c6b8c433e80ecd41da9",
       "version_major": 2,
       "version_minor": 0
      },
      "text/plain": [
       "Validation: |          | 0/? [00:00<?, ?it/s]"
      ]
     },
     "metadata": {},
     "output_type": "display_data"
    },
    {
     "data": {
      "application/vnd.jupyter.widget-view+json": {
       "model_id": "203c5c121b814233b7b04b8af8d95ba8",
       "version_major": 2,
       "version_minor": 0
      },
      "text/plain": [
       "Validation: |          | 0/? [00:00<?, ?it/s]"
      ]
     },
     "metadata": {},
     "output_type": "display_data"
    },
    {
     "data": {
      "application/vnd.jupyter.widget-view+json": {
       "model_id": "6c91409fa5a049149ca7f2b1c17211b6",
       "version_major": 2,
       "version_minor": 0
      },
      "text/plain": [
       "Validation: |          | 0/? [00:00<?, ?it/s]"
      ]
     },
     "metadata": {},
     "output_type": "display_data"
    },
    {
     "data": {
      "application/vnd.jupyter.widget-view+json": {
       "model_id": "5945cada73884683bd1cfa34b8efb30d",
       "version_major": 2,
       "version_minor": 0
      },
      "text/plain": [
       "Validation: |          | 0/? [00:00<?, ?it/s]"
      ]
     },
     "metadata": {},
     "output_type": "display_data"
    },
    {
     "data": {
      "application/vnd.jupyter.widget-view+json": {
       "model_id": "ab248814e16842d096792dd069dc92bc",
       "version_major": 2,
       "version_minor": 0
      },
      "text/plain": [
       "Validation: |          | 0/? [00:00<?, ?it/s]"
      ]
     },
     "metadata": {},
     "output_type": "display_data"
    },
    {
     "data": {
      "application/vnd.jupyter.widget-view+json": {
       "model_id": "50478f3a73fd42159448767aac380c46",
       "version_major": 2,
       "version_minor": 0
      },
      "text/plain": [
       "Validation: |          | 0/? [00:00<?, ?it/s]"
      ]
     },
     "metadata": {},
     "output_type": "display_data"
    },
    {
     "data": {
      "application/vnd.jupyter.widget-view+json": {
       "model_id": "37cc8f5228b04cc2a0d9b8efcf863dfb",
       "version_major": 2,
       "version_minor": 0
      },
      "text/plain": [
       "Validation: |          | 0/? [00:00<?, ?it/s]"
      ]
     },
     "metadata": {},
     "output_type": "display_data"
    },
    {
     "data": {
      "application/vnd.jupyter.widget-view+json": {
       "model_id": "ac48430494834820b91c4f9c984cc1ed",
       "version_major": 2,
       "version_minor": 0
      },
      "text/plain": [
       "Validation: |          | 0/? [00:00<?, ?it/s]"
      ]
     },
     "metadata": {},
     "output_type": "display_data"
    },
    {
     "data": {
      "application/vnd.jupyter.widget-view+json": {
       "model_id": "1ccdbbdc82604e70b8d0285696ac194a",
       "version_major": 2,
       "version_minor": 0
      },
      "text/plain": [
       "Validation: |          | 0/? [00:00<?, ?it/s]"
      ]
     },
     "metadata": {},
     "output_type": "display_data"
    },
    {
     "data": {
      "application/vnd.jupyter.widget-view+json": {
       "model_id": "b168e2b580194d4097c4afc958d25b83",
       "version_major": 2,
       "version_minor": 0
      },
      "text/plain": [
       "Validation: |          | 0/? [00:00<?, ?it/s]"
      ]
     },
     "metadata": {},
     "output_type": "display_data"
    },
    {
     "data": {
      "application/vnd.jupyter.widget-view+json": {
       "model_id": "a3508f45a7134f27ae99cbef7a0e9cf8",
       "version_major": 2,
       "version_minor": 0
      },
      "text/plain": [
       "Validation: |          | 0/? [00:00<?, ?it/s]"
      ]
     },
     "metadata": {},
     "output_type": "display_data"
    },
    {
     "data": {
      "application/vnd.jupyter.widget-view+json": {
       "model_id": "1554fa835353416c8b2726895f9db853",
       "version_major": 2,
       "version_minor": 0
      },
      "text/plain": [
       "Validation: |          | 0/? [00:00<?, ?it/s]"
      ]
     },
     "metadata": {},
     "output_type": "display_data"
    },
    {
     "data": {
      "application/vnd.jupyter.widget-view+json": {
       "model_id": "e1b2eafd99bb414e8bb35b6a59e3064e",
       "version_major": 2,
       "version_minor": 0
      },
      "text/plain": [
       "Validation: |          | 0/? [00:00<?, ?it/s]"
      ]
     },
     "metadata": {},
     "output_type": "display_data"
    },
    {
     "data": {
      "application/vnd.jupyter.widget-view+json": {
       "model_id": "c3d3b7a7029945c69350f634b55bad4d",
       "version_major": 2,
       "version_minor": 0
      },
      "text/plain": [
       "Validation: |          | 0/? [00:00<?, ?it/s]"
      ]
     },
     "metadata": {},
     "output_type": "display_data"
    },
    {
     "data": {
      "application/vnd.jupyter.widget-view+json": {
       "model_id": "d7189e3d07f04cc28084cef67a75a382",
       "version_major": 2,
       "version_minor": 0
      },
      "text/plain": [
       "Validation: |          | 0/? [00:00<?, ?it/s]"
      ]
     },
     "metadata": {},
     "output_type": "display_data"
    },
    {
     "data": {
      "application/vnd.jupyter.widget-view+json": {
       "model_id": "40a89174e0b14bada938a21cfd63c7e9",
       "version_major": 2,
       "version_minor": 0
      },
      "text/plain": [
       "Validation: |          | 0/? [00:00<?, ?it/s]"
      ]
     },
     "metadata": {},
     "output_type": "display_data"
    },
    {
     "data": {
      "application/vnd.jupyter.widget-view+json": {
       "model_id": "1e0cc26121be46deb8a372ef52f13cad",
       "version_major": 2,
       "version_minor": 0
      },
      "text/plain": [
       "Validation: |          | 0/? [00:00<?, ?it/s]"
      ]
     },
     "metadata": {},
     "output_type": "display_data"
    },
    {
     "data": {
      "application/vnd.jupyter.widget-view+json": {
       "model_id": "caa7e44650c24bd3b4f6bf9364bf62cb",
       "version_major": 2,
       "version_minor": 0
      },
      "text/plain": [
       "Validation: |          | 0/? [00:00<?, ?it/s]"
      ]
     },
     "metadata": {},
     "output_type": "display_data"
    },
    {
     "data": {
      "application/vnd.jupyter.widget-view+json": {
       "model_id": "6672ed4600fd4729a634dc8325246226",
       "version_major": 2,
       "version_minor": 0
      },
      "text/plain": [
       "Validation: |          | 0/? [00:00<?, ?it/s]"
      ]
     },
     "metadata": {},
     "output_type": "display_data"
    },
    {
     "data": {
      "application/vnd.jupyter.widget-view+json": {
       "model_id": "27a07da7e612488cb868dd568a27deab",
       "version_major": 2,
       "version_minor": 0
      },
      "text/plain": [
       "Validation: |          | 0/? [00:00<?, ?it/s]"
      ]
     },
     "metadata": {},
     "output_type": "display_data"
    },
    {
     "data": {
      "application/vnd.jupyter.widget-view+json": {
       "model_id": "0c4b682be4fc4a729a74395f7e58d918",
       "version_major": 2,
       "version_minor": 0
      },
      "text/plain": [
       "Validation: |          | 0/? [00:00<?, ?it/s]"
      ]
     },
     "metadata": {},
     "output_type": "display_data"
    },
    {
     "data": {
      "application/vnd.jupyter.widget-view+json": {
       "model_id": "c4cd987c36bd47d9adfa2fe637397737",
       "version_major": 2,
       "version_minor": 0
      },
      "text/plain": [
       "Validation: |          | 0/? [00:00<?, ?it/s]"
      ]
     },
     "metadata": {},
     "output_type": "display_data"
    },
    {
     "data": {
      "application/vnd.jupyter.widget-view+json": {
       "model_id": "85effe15fc83435e9bb116cdeb3841f5",
       "version_major": 2,
       "version_minor": 0
      },
      "text/plain": [
       "Validation: |          | 0/? [00:00<?, ?it/s]"
      ]
     },
     "metadata": {},
     "output_type": "display_data"
    },
    {
     "data": {
      "application/vnd.jupyter.widget-view+json": {
       "model_id": "bd082d3286cc469db73d59f150eeec1a",
       "version_major": 2,
       "version_minor": 0
      },
      "text/plain": [
       "Validation: |          | 0/? [00:00<?, ?it/s]"
      ]
     },
     "metadata": {},
     "output_type": "display_data"
    },
    {
     "data": {
      "application/vnd.jupyter.widget-view+json": {
       "model_id": "16604c1aa2884fb082fa0ca2c0da87f3",
       "version_major": 2,
       "version_minor": 0
      },
      "text/plain": [
       "Validation: |          | 0/? [00:00<?, ?it/s]"
      ]
     },
     "metadata": {},
     "output_type": "display_data"
    },
    {
     "data": {
      "application/vnd.jupyter.widget-view+json": {
       "model_id": "51edbd3c1368490698c719dc9a583a4d",
       "version_major": 2,
       "version_minor": 0
      },
      "text/plain": [
       "Validation: |          | 0/? [00:00<?, ?it/s]"
      ]
     },
     "metadata": {},
     "output_type": "display_data"
    },
    {
     "data": {
      "application/vnd.jupyter.widget-view+json": {
       "model_id": "3e0537f5339f4ca58c858e8a2e036db9",
       "version_major": 2,
       "version_minor": 0
      },
      "text/plain": [
       "Validation: |          | 0/? [00:00<?, ?it/s]"
      ]
     },
     "metadata": {},
     "output_type": "display_data"
    },
    {
     "data": {
      "application/vnd.jupyter.widget-view+json": {
       "model_id": "f3b76a6d42004344bbe29740fc3649b7",
       "version_major": 2,
       "version_minor": 0
      },
      "text/plain": [
       "Validation: |          | 0/? [00:00<?, ?it/s]"
      ]
     },
     "metadata": {},
     "output_type": "display_data"
    },
    {
     "data": {
      "application/vnd.jupyter.widget-view+json": {
       "model_id": "00bdeca9edf14eb9845a1349c5f01ab3",
       "version_major": 2,
       "version_minor": 0
      },
      "text/plain": [
       "Validation: |          | 0/? [00:00<?, ?it/s]"
      ]
     },
     "metadata": {},
     "output_type": "display_data"
    },
    {
     "data": {
      "application/vnd.jupyter.widget-view+json": {
       "model_id": "857a85b7fe5040f2ad9cb39caec53770",
       "version_major": 2,
       "version_minor": 0
      },
      "text/plain": [
       "Validation: |          | 0/? [00:00<?, ?it/s]"
      ]
     },
     "metadata": {},
     "output_type": "display_data"
    },
    {
     "data": {
      "application/vnd.jupyter.widget-view+json": {
       "model_id": "c74b19de076d4894b69850701191cdfa",
       "version_major": 2,
       "version_minor": 0
      },
      "text/plain": [
       "Validation: |          | 0/? [00:00<?, ?it/s]"
      ]
     },
     "metadata": {},
     "output_type": "display_data"
    },
    {
     "data": {
      "application/vnd.jupyter.widget-view+json": {
       "model_id": "9b8c0f5a6b1d40259c16915275d9ee60",
       "version_major": 2,
       "version_minor": 0
      },
      "text/plain": [
       "Validation: |          | 0/? [00:00<?, ?it/s]"
      ]
     },
     "metadata": {},
     "output_type": "display_data"
    },
    {
     "data": {
      "application/vnd.jupyter.widget-view+json": {
       "model_id": "a6a9e68e13584d00bcf757155b2e069a",
       "version_major": 2,
       "version_minor": 0
      },
      "text/plain": [
       "Validation: |          | 0/? [00:00<?, ?it/s]"
      ]
     },
     "metadata": {},
     "output_type": "display_data"
    },
    {
     "data": {
      "application/vnd.jupyter.widget-view+json": {
       "model_id": "1fa6d8ce8c67449ba4080b2a95690420",
       "version_major": 2,
       "version_minor": 0
      },
      "text/plain": [
       "Validation: |          | 0/? [00:00<?, ?it/s]"
      ]
     },
     "metadata": {},
     "output_type": "display_data"
    },
    {
     "data": {
      "application/vnd.jupyter.widget-view+json": {
       "model_id": "ca76bfe40b1c46f19afd49aa39549a2c",
       "version_major": 2,
       "version_minor": 0
      },
      "text/plain": [
       "Validation: |          | 0/? [00:00<?, ?it/s]"
      ]
     },
     "metadata": {},
     "output_type": "display_data"
    },
    {
     "data": {
      "application/vnd.jupyter.widget-view+json": {
       "model_id": "013b92a2bdb74408828efbe7d48542a2",
       "version_major": 2,
       "version_minor": 0
      },
      "text/plain": [
       "Validation: |          | 0/? [00:00<?, ?it/s]"
      ]
     },
     "metadata": {},
     "output_type": "display_data"
    },
    {
     "data": {
      "application/vnd.jupyter.widget-view+json": {
       "model_id": "4d5282d439a942d893c32a2d82fa8794",
       "version_major": 2,
       "version_minor": 0
      },
      "text/plain": [
       "Validation: |          | 0/? [00:00<?, ?it/s]"
      ]
     },
     "metadata": {},
     "output_type": "display_data"
    },
    {
     "data": {
      "application/vnd.jupyter.widget-view+json": {
       "model_id": "de5fcbfda38e4cecb3fd4b5ef40007cb",
       "version_major": 2,
       "version_minor": 0
      },
      "text/plain": [
       "Validation: |          | 0/? [00:00<?, ?it/s]"
      ]
     },
     "metadata": {},
     "output_type": "display_data"
    },
    {
     "data": {
      "application/vnd.jupyter.widget-view+json": {
       "model_id": "7ef6513feef7444cb2162781bdeb9c54",
       "version_major": 2,
       "version_minor": 0
      },
      "text/plain": [
       "Validation: |          | 0/? [00:00<?, ?it/s]"
      ]
     },
     "metadata": {},
     "output_type": "display_data"
    },
    {
     "data": {
      "application/vnd.jupyter.widget-view+json": {
       "model_id": "80e29c09b7aa471080b16904d992afd0",
       "version_major": 2,
       "version_minor": 0
      },
      "text/plain": [
       "Validation: |          | 0/? [00:00<?, ?it/s]"
      ]
     },
     "metadata": {},
     "output_type": "display_data"
    },
    {
     "data": {
      "application/vnd.jupyter.widget-view+json": {
       "model_id": "0ba7ae46113b450d8cc0a88e6939d0e0",
       "version_major": 2,
       "version_minor": 0
      },
      "text/plain": [
       "Validation: |          | 0/? [00:00<?, ?it/s]"
      ]
     },
     "metadata": {},
     "output_type": "display_data"
    },
    {
     "data": {
      "application/vnd.jupyter.widget-view+json": {
       "model_id": "368991177366459cacaca2ab04b1d2ee",
       "version_major": 2,
       "version_minor": 0
      },
      "text/plain": [
       "Validation: |          | 0/? [00:00<?, ?it/s]"
      ]
     },
     "metadata": {},
     "output_type": "display_data"
    },
    {
     "data": {
      "application/vnd.jupyter.widget-view+json": {
       "model_id": "77ce7f85d65341ffbe29abad18e61094",
       "version_major": 2,
       "version_minor": 0
      },
      "text/plain": [
       "Validation: |          | 0/? [00:00<?, ?it/s]"
      ]
     },
     "metadata": {},
     "output_type": "display_data"
    },
    {
     "data": {
      "application/vnd.jupyter.widget-view+json": {
       "model_id": "544e479c0df043faa97669e61a303427",
       "version_major": 2,
       "version_minor": 0
      },
      "text/plain": [
       "Validation: |          | 0/? [00:00<?, ?it/s]"
      ]
     },
     "metadata": {},
     "output_type": "display_data"
    },
    {
     "data": {
      "application/vnd.jupyter.widget-view+json": {
       "model_id": "7daa633f4f4541a4a5707d7f0fcb81a5",
       "version_major": 2,
       "version_minor": 0
      },
      "text/plain": [
       "Validation: |          | 0/? [00:00<?, ?it/s]"
      ]
     },
     "metadata": {},
     "output_type": "display_data"
    },
    {
     "data": {
      "application/vnd.jupyter.widget-view+json": {
       "model_id": "c95ec3e7f178495fbed055748167534b",
       "version_major": 2,
       "version_minor": 0
      },
      "text/plain": [
       "Validation: |          | 0/? [00:00<?, ?it/s]"
      ]
     },
     "metadata": {},
     "output_type": "display_data"
    },
    {
     "data": {
      "application/vnd.jupyter.widget-view+json": {
       "model_id": "95a2c8177e4946ce880898f70c6b1e61",
       "version_major": 2,
       "version_minor": 0
      },
      "text/plain": [
       "Validation: |          | 0/? [00:00<?, ?it/s]"
      ]
     },
     "metadata": {},
     "output_type": "display_data"
    },
    {
     "data": {
      "application/vnd.jupyter.widget-view+json": {
       "model_id": "3015791fd7c94b58bfdf855c4846ca87",
       "version_major": 2,
       "version_minor": 0
      },
      "text/plain": [
       "Validation: |          | 0/? [00:00<?, ?it/s]"
      ]
     },
     "metadata": {},
     "output_type": "display_data"
    },
    {
     "data": {
      "application/vnd.jupyter.widget-view+json": {
       "model_id": "986a97cf9de3487fa5e0b6f72e152d11",
       "version_major": 2,
       "version_minor": 0
      },
      "text/plain": [
       "Validation: |          | 0/? [00:00<?, ?it/s]"
      ]
     },
     "metadata": {},
     "output_type": "display_data"
    },
    {
     "name": "stderr",
     "output_type": "stream",
     "text": [
      "`Trainer.fit` stopped: `max_epochs=100` reached.\n"
     ]
    }
   ],
   "source": [
    "trainer.fit(model, dm)"
   ]
  },
  {
   "cell_type": "markdown",
   "metadata": {},
   "source": [
    "## Predicting"
   ]
  },
  {
   "cell_type": "code",
   "execution_count": 8,
   "metadata": {},
   "outputs": [],
   "source": [
    "def compute_losses(y, y_pred, loss_fn):\n",
    "    losses = []\n",
    "    for _y, _y_pred in zip(y, y_pred):\n",
    "        loss = loss_fn(_y, _y_pred)\n",
    "        loss = loss.detach().numpy().item()\n",
    "        losses.append(loss)\n",
    "    return losses"
   ]
  },
  {
   "cell_type": "code",
   "execution_count": 9,
   "metadata": {},
   "outputs": [],
   "source": [
    "dm.setup(\"fit\")\n",
    "train_dataset = dm.train_dataloader().dataset\n",
    "\n",
    "dm.setup(\"test\")\n",
    "test_dataset = dm.test_dataloader().dataset"
   ]
  },
  {
   "cell_type": "markdown",
   "metadata": {},
   "source": [
    "### Defining Anomaly Threshold\n",
    "\n",
    "The anomaly threshold is defined as the maximum reconstruction error in the training data. Other approaches can be used, such as using a quantile of the reconstruction error, but for simplicity, we will use the maximum reconstruction error."
   ]
  },
  {
   "cell_type": "code",
   "execution_count": 10,
   "metadata": {},
   "outputs": [],
   "source": [
    "# Make some predictions!\n",
    "\n",
    "x_train = torch.stack([torch.Tensor(x) for x, y in train_dataset])\n",
    "y_train = np.array([y for x, y in train_dataset])\n",
    "x_train_hat = model(x_train)"
   ]
  },
  {
   "cell_type": "code",
   "execution_count": 11,
   "metadata": {},
   "outputs": [
    {
     "data": {
      "text/plain": [
       "0.7750090956687927"
      ]
     },
     "execution_count": 11,
     "metadata": {},
     "output_type": "execute_result"
    }
   ],
   "source": [
    "# Calculate the MSE loss for each sample and use the maximum as the anomaly threshold\n",
    "mse = MeanSquaredError()\n",
    "losses = compute_losses(x_train, x_train_hat, mse)\n",
    "\n",
    "anomaly_threshold = max(losses)\n",
    "anomaly_threshold"
   ]
  },
  {
   "cell_type": "markdown",
   "metadata": {},
   "source": [
    "### Predicting on Test set\n",
    "\n",
    "Now, let's predict on the test set. We will use the test data from the datamodule and calculate the reconstruction error for each sample. Samples with reconstruction error above the threshold are considered anomalies, otherwise, they are normal."
   ]
  },
  {
   "cell_type": "code",
   "execution_count": 12,
   "metadata": {},
   "outputs": [],
   "source": [
    "# Predict on the test dataset\n",
    "x_test = torch.stack([torch.Tensor(x) for x, y in test_dataset])\n",
    "y_test = np.array([y for x, y in test_dataset])\n",
    "\n",
    "x_test_hat = model(x_test)"
   ]
  },
  {
   "cell_type": "code",
   "execution_count": 13,
   "metadata": {},
   "outputs": [],
   "source": [
    "# Calculate the MSE loss for each sample\n",
    "mse = MeanSquaredError()\n",
    "losses = compute_losses(x_test, x_test_hat, mse)\n",
    "\n",
    "y_test_hat = [1 if loss > anomaly_threshold else 0 for loss in losses]"
   ]
  },
  {
   "cell_type": "markdown",
   "metadata": {},
   "source": [
    "Let's put all together (true and predicteds) just for sake of simplicity and visualization"
   ]
  },
  {
   "cell_type": "code",
   "execution_count": 14,
   "metadata": {},
   "outputs": [
    {
     "data": {
      "text/html": [
       "<div>\n",
       "<style scoped>\n",
       "    .dataframe tbody tr th:only-of-type {\n",
       "        vertical-align: middle;\n",
       "    }\n",
       "\n",
       "    .dataframe tbody tr th {\n",
       "        vertical-align: top;\n",
       "    }\n",
       "\n",
       "    .dataframe thead th {\n",
       "        text-align: right;\n",
       "    }\n",
       "</style>\n",
       "<table border=\"1\" class=\"dataframe\">\n",
       "  <thead>\n",
       "    <tr style=\"text-align: right;\">\n",
       "      <th></th>\n",
       "      <th>true</th>\n",
       "      <th>predicted</th>\n",
       "      <th>loss</th>\n",
       "      <th>anomaly_threshold</th>\n",
       "    </tr>\n",
       "  </thead>\n",
       "  <tbody>\n",
       "    <tr>\n",
       "      <th>0</th>\n",
       "      <td>0</td>\n",
       "      <td>0</td>\n",
       "      <td>0.270930</td>\n",
       "      <td>0.775009</td>\n",
       "    </tr>\n",
       "    <tr>\n",
       "      <th>1</th>\n",
       "      <td>0</td>\n",
       "      <td>0</td>\n",
       "      <td>0.402659</td>\n",
       "      <td>0.775009</td>\n",
       "    </tr>\n",
       "    <tr>\n",
       "      <th>2</th>\n",
       "      <td>0</td>\n",
       "      <td>0</td>\n",
       "      <td>0.772812</td>\n",
       "      <td>0.775009</td>\n",
       "    </tr>\n",
       "    <tr>\n",
       "      <th>3</th>\n",
       "      <td>0</td>\n",
       "      <td>1</td>\n",
       "      <td>1.044425</td>\n",
       "      <td>0.775009</td>\n",
       "    </tr>\n",
       "    <tr>\n",
       "      <th>4</th>\n",
       "      <td>0</td>\n",
       "      <td>1</td>\n",
       "      <td>1.087600</td>\n",
       "      <td>0.775009</td>\n",
       "    </tr>\n",
       "    <tr>\n",
       "      <th>5</th>\n",
       "      <td>0</td>\n",
       "      <td>1</td>\n",
       "      <td>0.981782</td>\n",
       "      <td>0.775009</td>\n",
       "    </tr>\n",
       "    <tr>\n",
       "      <th>6</th>\n",
       "      <td>0</td>\n",
       "      <td>0</td>\n",
       "      <td>0.580925</td>\n",
       "      <td>0.775009</td>\n",
       "    </tr>\n",
       "    <tr>\n",
       "      <th>7</th>\n",
       "      <td>0</td>\n",
       "      <td>0</td>\n",
       "      <td>0.044288</td>\n",
       "      <td>0.775009</td>\n",
       "    </tr>\n",
       "    <tr>\n",
       "      <th>8</th>\n",
       "      <td>0</td>\n",
       "      <td>0</td>\n",
       "      <td>0.114536</td>\n",
       "      <td>0.775009</td>\n",
       "    </tr>\n",
       "    <tr>\n",
       "      <th>9</th>\n",
       "      <td>0</td>\n",
       "      <td>0</td>\n",
       "      <td>0.182375</td>\n",
       "      <td>0.775009</td>\n",
       "    </tr>\n",
       "    <tr>\n",
       "      <th>10</th>\n",
       "      <td>0</td>\n",
       "      <td>0</td>\n",
       "      <td>0.134096</td>\n",
       "      <td>0.775009</td>\n",
       "    </tr>\n",
       "    <tr>\n",
       "      <th>11</th>\n",
       "      <td>0</td>\n",
       "      <td>0</td>\n",
       "      <td>0.153493</td>\n",
       "      <td>0.775009</td>\n",
       "    </tr>\n",
       "    <tr>\n",
       "      <th>12</th>\n",
       "      <td>0</td>\n",
       "      <td>1</td>\n",
       "      <td>0.863742</td>\n",
       "      <td>0.775009</td>\n",
       "    </tr>\n",
       "    <tr>\n",
       "      <th>13</th>\n",
       "      <td>0</td>\n",
       "      <td>0</td>\n",
       "      <td>0.088762</td>\n",
       "      <td>0.775009</td>\n",
       "    </tr>\n",
       "    <tr>\n",
       "      <th>14</th>\n",
       "      <td>1</td>\n",
       "      <td>0</td>\n",
       "      <td>0.225670</td>\n",
       "      <td>0.775009</td>\n",
       "    </tr>\n",
       "    <tr>\n",
       "      <th>15</th>\n",
       "      <td>1</td>\n",
       "      <td>0</td>\n",
       "      <td>0.062264</td>\n",
       "      <td>0.775009</td>\n",
       "    </tr>\n",
       "    <tr>\n",
       "      <th>16</th>\n",
       "      <td>1</td>\n",
       "      <td>0</td>\n",
       "      <td>0.403869</td>\n",
       "      <td>0.775009</td>\n",
       "    </tr>\n",
       "    <tr>\n",
       "      <th>17</th>\n",
       "      <td>1</td>\n",
       "      <td>0</td>\n",
       "      <td>0.380038</td>\n",
       "      <td>0.775009</td>\n",
       "    </tr>\n",
       "    <tr>\n",
       "      <th>18</th>\n",
       "      <td>1</td>\n",
       "      <td>0</td>\n",
       "      <td>0.331548</td>\n",
       "      <td>0.775009</td>\n",
       "    </tr>\n",
       "    <tr>\n",
       "      <th>19</th>\n",
       "      <td>1</td>\n",
       "      <td>0</td>\n",
       "      <td>0.129755</td>\n",
       "      <td>0.775009</td>\n",
       "    </tr>\n",
       "    <tr>\n",
       "      <th>20</th>\n",
       "      <td>1</td>\n",
       "      <td>0</td>\n",
       "      <td>0.217413</td>\n",
       "      <td>0.775009</td>\n",
       "    </tr>\n",
       "    <tr>\n",
       "      <th>21</th>\n",
       "      <td>1</td>\n",
       "      <td>0</td>\n",
       "      <td>0.297092</td>\n",
       "      <td>0.775009</td>\n",
       "    </tr>\n",
       "    <tr>\n",
       "      <th>22</th>\n",
       "      <td>1</td>\n",
       "      <td>1</td>\n",
       "      <td>0.910253</td>\n",
       "      <td>0.775009</td>\n",
       "    </tr>\n",
       "    <tr>\n",
       "      <th>23</th>\n",
       "      <td>1</td>\n",
       "      <td>1</td>\n",
       "      <td>17.813393</td>\n",
       "      <td>0.775009</td>\n",
       "    </tr>\n",
       "    <tr>\n",
       "      <th>24</th>\n",
       "      <td>1</td>\n",
       "      <td>1</td>\n",
       "      <td>73.738625</td>\n",
       "      <td>0.775009</td>\n",
       "    </tr>\n",
       "    <tr>\n",
       "      <th>25</th>\n",
       "      <td>1</td>\n",
       "      <td>1</td>\n",
       "      <td>159.152588</td>\n",
       "      <td>0.775009</td>\n",
       "    </tr>\n",
       "    <tr>\n",
       "      <th>26</th>\n",
       "      <td>1</td>\n",
       "      <td>1</td>\n",
       "      <td>232.976349</td>\n",
       "      <td>0.775009</td>\n",
       "    </tr>\n",
       "    <tr>\n",
       "      <th>27</th>\n",
       "      <td>1</td>\n",
       "      <td>1</td>\n",
       "      <td>243.144699</td>\n",
       "      <td>0.775009</td>\n",
       "    </tr>\n",
       "  </tbody>\n",
       "</table>\n",
       "</div>"
      ],
      "text/plain": [
       "    true  predicted        loss  anomaly_threshold\n",
       "0      0          0    0.270930           0.775009\n",
       "1      0          0    0.402659           0.775009\n",
       "2      0          0    0.772812           0.775009\n",
       "3      0          1    1.044425           0.775009\n",
       "4      0          1    1.087600           0.775009\n",
       "5      0          1    0.981782           0.775009\n",
       "6      0          0    0.580925           0.775009\n",
       "7      0          0    0.044288           0.775009\n",
       "8      0          0    0.114536           0.775009\n",
       "9      0          0    0.182375           0.775009\n",
       "10     0          0    0.134096           0.775009\n",
       "11     0          0    0.153493           0.775009\n",
       "12     0          1    0.863742           0.775009\n",
       "13     0          0    0.088762           0.775009\n",
       "14     1          0    0.225670           0.775009\n",
       "15     1          0    0.062264           0.775009\n",
       "16     1          0    0.403869           0.775009\n",
       "17     1          0    0.380038           0.775009\n",
       "18     1          0    0.331548           0.775009\n",
       "19     1          0    0.129755           0.775009\n",
       "20     1          0    0.217413           0.775009\n",
       "21     1          0    0.297092           0.775009\n",
       "22     1          1    0.910253           0.775009\n",
       "23     1          1   17.813393           0.775009\n",
       "24     1          1   73.738625           0.775009\n",
       "25     1          1  159.152588           0.775009\n",
       "26     1          1  232.976349           0.775009\n",
       "27     1          1  243.144699           0.775009"
      ]
     },
     "execution_count": 14,
     "metadata": {},
     "output_type": "execute_result"
    }
   ],
   "source": [
    "results_dataframe = pd.DataFrame(\n",
    "    {\n",
    "        \"true\": y_test,\n",
    "        \"predicted\": y_test_hat,\n",
    "        \"loss\": losses,\n",
    "        \"anomaly_threshold\": anomaly_threshold,\n",
    "    }\n",
    ")\n",
    "\n",
    "results_dataframe"
   ]
  },
  {
   "cell_type": "markdown",
   "metadata": {},
   "source": [
    "### Visualizing Metrics and Confusion Matrix\n",
    "\n",
    "Let's calculate some metrics"
   ]
  },
  {
   "cell_type": "code",
   "execution_count": 15,
   "metadata": {},
   "outputs": [
    {
     "name": "stdout",
     "output_type": "stream",
     "text": [
      "F1-score: 0.5\n",
      "Recall: 0.42857142857142855\n",
      "Balanced Accuracy: 0.5714285714285714\n",
      "ROC AUC: 0.5714285714285714\n"
     ]
    }
   ],
   "source": [
    "# Extract true and predicted labels from the results_dataframe\n",
    "true_labels = results_dataframe['true']\n",
    "predicted_labels = results_dataframe['predicted']\n",
    "\n",
    "# Calculate the F1-score\n",
    "f1 = f1_score(true_labels, predicted_labels)\n",
    "\n",
    "# Calculate the recall\n",
    "recall = recall_score(true_labels, predicted_labels)\n",
    "\n",
    "# Calculate the balanced accuracy\n",
    "balanced_acc = balanced_accuracy_score(true_labels, predicted_labels)\n",
    "\n",
    "# Calculate the ROC AUC\n",
    "roc_auc = roc_auc_score(true_labels, predicted_labels)\n",
    "\n",
    "# Print the results\n",
    "print(\"F1-score:\", f1)\n",
    "print(\"Recall:\", recall)\n",
    "print(\"Balanced Accuracy:\", balanced_acc)\n",
    "print(\"ROC AUC:\", roc_auc)"
   ]
  },
  {
   "cell_type": "markdown",
   "metadata": {},
   "source": [
    "And visualize the Confusion Matrix"
   ]
  },
  {
   "cell_type": "code",
   "execution_count": 16,
   "metadata": {},
   "outputs": [
    {
     "data": {
      "image/png": "[encoded data removed]",
      "text/plain": [
       "<Figure size 800x600 with 2 Axes>"
      ]
     },
     "metadata": {},
     "output_type": "display_data"
    }
   ],
   "source": [
    "# Get the true and predicted labels from the results_dataframe\n",
    "true_labels = results_dataframe['true']\n",
    "predicted_labels = results_dataframe['predicted']\n",
    "\n",
    "# Compute the confusion matrix\n",
    "cm = confusion_matrix(true_labels, predicted_labels)\n",
    "\n",
    "# Define the class labels\n",
    "class_labels = ['Normal', 'Anomaly']\n",
    "\n",
    "# Plot the confusion matrix\n",
    "plt.figure(figsize=(8, 6))\n",
    "plt.imshow(cm, interpolation='nearest', cmap=plt.cm.Blues)\n",
    "plt.title('Confusion Matrix')\n",
    "plt.colorbar()\n",
    "tick_marks = np.arange(len(class_labels))\n",
    "plt.xticks(tick_marks, class_labels, rotation=45)\n",
    "plt.yticks(tick_marks, class_labels)\n",
    "plt.xlabel('Predicted Label')\n",
    "plt.ylabel('True Label')\n",
    "\n",
    "# Add the values to the confusion matrix plot\n",
    "thresh = cm.max() / 2.\n",
    "for i in range(cm.shape[0]):\n",
    "    for j in range(cm.shape[1]):\n",
    "        plt.text(j, i, format(cm[i, j], 'd'),\n",
    "                 horizontalalignment=\"center\",\n",
    "                 color=\"white\" if cm[i, j] > thresh else \"black\")\n",
    "\n",
    "plt.tight_layout()\n",
    "plt.show()"
   ]
  }
 ],
 "metadata": {
  "kernelspec": {
   "display_name": "Python 3 (ipykernel)",
   "language": "python",
   "name": "python3"
  },
  "language_info": {
   "codemirror_mode": {
    "name": "ipython",
    "version": 3
   },
   "file_extension": ".py",
   "mimetype": "text/x-python",
   "name": "python",
   "nbconvert_exporter": "python",
   "pygments_lexer": "ipython3",
   "version": "3.10.6"
  }
 },
 "nbformat": 4,
 "nbformat_minor": 2
}
